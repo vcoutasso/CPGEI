{
 "cells": [
  {
   "cell_type": "markdown",
   "metadata": {},
   "source": [
    "# Lista 5 - Exercício 3\n",
    "\n",
    "Considere o conjunto de dados $\\{x_1, x_2, x_3, x_4, x_5, x_6\\}$.\n",
    "\n",
    "A matriz $D$ representa as distâncias $d_{ij}$ entre pares de pontos entre os vetores $x_i$ e $x_j$, conforme ilustrado na figura ao lado da matriz. Aplique o algoritmo single-link e avalie o resultado. Repita o processo usando o complete-link. Apresente ambos os dendrogramas."
   ]
  },
  {
   "cell_type": "code",
   "execution_count": 1,
   "metadata": {},
   "outputs": [],
   "source": [
    "import numpy as np\n",
    "import scipy\n",
    "from scipy.cluster.hierarchy import linkage, dendrogram\n",
    "\n",
    "# The last non-zero value was changed from 3.6 to 3.7 so that the matrix would be symmetrical\n",
    "# (probably a typo in the original figure)\n",
    "D = [[0,  1,  4,  20,  22,  23],\n",
    "     [1,  0,  3,  22,  24,  25],\n",
    "     [4,  3,  0,  23,  25,  26],\n",
    "     [20, 22, 23, 0,  3.5, 3.6],\n",
    "     [22, 24, 25, 3.5, 0,  3.7],\n",
    "     [23, 25, 26, 3.6, 3.7, 0]]\n",
    "\n",
    "# Condense distances so we can feed it directly to scipy.cluster.hierarchy.linkage()\n",
    "condensed_distances = scipy.spatial.distance.squareform(D)"
   ]
  },
  {
   "cell_type": "code",
   "execution_count": 2,
   "metadata": {},
   "outputs": [
    {
     "name": "stdout",
     "output_type": "stream",
     "text": [
      "Dendrograma usando single link:\n"
     ]
    },
    {
     "data": {
      "image/png": "[encoded data removed]",
      "text/plain": [
       "<Figure size 432x288 with 1 Axes>"
      ]
     },
     "metadata": {
      "needs_background": "light"
     },
     "output_type": "display_data"
    }
   ],
   "source": [
    "print(\"Dendrograma usando single link:\")\n",
    "dendrogram(linkage(condensed_distances, method='single'));"
   ]
  },
  {
   "cell_type": "code",
   "execution_count": 3,
   "metadata": {},
   "outputs": [
    {
     "name": "stdout",
     "output_type": "stream",
     "text": [
      "Dendrograma usando complete link:\n"
     ]
    },
    {
     "data": {
      "image/png": "[encoded data removed]",
      "text/plain": [
       "<Figure size 432x288 with 1 Axes>"
      ]
     },
     "metadata": {
      "needs_background": "light"
     },
     "output_type": "display_data"
    }
   ],
   "source": [
    "print(\"Dendrograma usando complete link:\")\n",
    "dendrogram(linkage(condensed_distances, method='complete'));"
   ]
  }
 ],
 "metadata": {
  "kernelspec": {
   "display_name": "Python [conda env:sklearn]",
   "language": "python",
   "name": "conda-env-sklearn-py"
  },
  "language_info": {
   "codemirror_mode": {
    "name": "ipython",
    "version": 3
   },
   "file_extension": ".py",
   "mimetype": "text/x-python",
   "name": "python",
   "nbconvert_exporter": "python",
   "pygments_lexer": "ipython3",
   "version": "3.8.5"
  }
 },
 "nbformat": 4,
 "nbformat_minor": 4
}
