{
 "cells": [
  {
   "cell_type": "markdown",
   "metadata": {},
   "source": [
    "# Classificação\n",
    "\n",
    "Com a etapa de leitura de dados finalizada, podemos começar a nos preocupar em treinar um modelo bom o suficiente para obter bons resultados de classificação. Como sempre, vamos começar preparando o notebook:"
   ]
  },
  {
   "cell_type": "code",
   "execution_count": 1,
   "metadata": {},
   "outputs": [],
   "source": [
    "import numpy as np\n",
    "\n",
    "from utils import read_data, prepare_data"
   ]
  },
  {
   "cell_type": "markdown",
   "metadata": {},
   "source": [
    "Em seguida, preparamos o conjunto de treino e de teste:"
   ]
  },
  {
   "cell_type": "code",
   "execution_count": 2,
   "metadata": {},
   "outputs": [],
   "source": [
    "labels = {'Fall': 1, 'ADL': 2}\n",
    "\n",
    "fall_train = read_data('Dataset/Fall/Train', labels['Fall'])\n",
    "adl_train = read_data('Dataset/ADL/Train', labels['ADL'])\n",
    "\n",
    "fall_test = read_data('Dataset/Fall/Test', labels['Fall'])\n",
    "adl_test = read_data('Dataset/ADL/Test', labels['ADL'])\n",
    "\n",
    "x_train, y_train = prepare_data(fall_train, adl_train)\n",
    "x_test, y_test = prepare_data(fall_test, adl_test)"
   ]
  },
  {
   "cell_type": "markdown",
   "metadata": {},
   "source": [
    "Por conveniência, vamos definir uma função para imprimir os valores de acurácia dos classificadores, bem como os parâmetros utilizados:"
   ]
  },
  {
   "cell_type": "code",
   "execution_count": 3,
   "metadata": {},
   "outputs": [],
   "source": [
    "def print_acc(model, train, test):\n",
    "    print('Acurácia:', model)\n",
    "    print('Conjunto de treino: {:.4f}\\t\\tConjunto de teste: {:.4f}'.format(train, test))"
   ]
  },
  {
   "cell_type": "markdown",
   "metadata": {},
   "source": [
    "Agora basta começar os experimentos e ajustar os parâmetros até chegarmos em um classificador com resultados satisfatórios em ambos os conjuntos:"
   ]
  },
  {
   "cell_type": "code",
   "execution_count": 4,
   "metadata": {},
   "outputs": [
    {
     "name": "stdout",
     "output_type": "stream",
     "text": [
      "Acurácia: LogisticRegression()\n",
      "Conjunto de treino: 0.9655\t\tConjunto de teste: 1.0000\n"
     ]
    }
   ],
   "source": [
    "from sklearn.linear_model import LogisticRegression\n",
    "\n",
    "clf = LogisticRegression().fit(x_train, y_train)\n",
    "print_acc(clf, clf.score(x_train, y_train), clf.score(x_test, y_test))"
   ]
  },
  {
   "cell_type": "code",
   "execution_count": 5,
   "metadata": {},
   "outputs": [
    {
     "name": "stdout",
     "output_type": "stream",
     "text": [
      "Acurácia: SVC(kernel='linear')\n",
      "Conjunto de treino: 0.9828\t\tConjunto de teste: 0.9167\n"
     ]
    }
   ],
   "source": [
    "from sklearn.svm import SVC\n",
    "\n",
    "clf = SVC(kernel='linear').fit(x_train, y_train)\n",
    "print_acc(clf, clf.score(x_train, y_train), clf.score(x_test, y_test))"
   ]
  },
  {
   "cell_type": "code",
   "execution_count": 6,
   "metadata": {},
   "outputs": [
    {
     "name": "stdout",
     "output_type": "stream",
     "text": [
      "Acurácia: SVC(kernel='poly')\n",
      "Conjunto de treino: 0.9483\t\tConjunto de teste: 0.9167\n"
     ]
    }
   ],
   "source": [
    "clf = SVC(kernel='poly').fit(x_train, y_train)\n",
    "print_acc(clf, clf.score(x_train, y_train), clf.score(x_test, y_test))"
   ]
  },
  {
   "cell_type": "code",
   "execution_count": 7,
   "metadata": {},
   "outputs": [
    {
     "name": "stdout",
     "output_type": "stream",
     "text": [
      "Acurácia: SVC()\n",
      "Conjunto de treino: 0.9310\t\tConjunto de teste: 0.9167\n"
     ]
    }
   ],
   "source": [
    "clf = SVC(kernel='rbf').fit(x_train, y_train)\n",
    "print_acc(clf, clf.score(x_train, y_train), clf.score(x_test, y_test))"
   ]
  },
  {
   "cell_type": "code",
   "execution_count": 8,
   "metadata": {},
   "outputs": [
    {
     "name": "stdout",
     "output_type": "stream",
     "text": [
      "Acurácia: RandomForestClassifier(max_depth=3, min_samples_leaf=5)\n",
      "Conjunto de treino: 0.9828\t\tConjunto de teste: 1.0000\n"
     ]
    }
   ],
   "source": [
    "from sklearn.ensemble import RandomForestClassifier\n",
    "\n",
    "clf = RandomForestClassifier(max_depth=3, min_samples_leaf=5).fit(x_train, y_train)\n",
    "print_acc(clf, clf.score(x_train, y_train), clf.score(x_test, y_test))"
   ]
  },
  {
   "cell_type": "markdown",
   "metadata": {},
   "source": [
    "E temos um vencedor:"
   ]
  },
  {
   "cell_type": "code",
   "execution_count": 9,
   "metadata": {},
   "outputs": [
    {
     "name": "stdout",
     "output_type": "stream",
     "text": [
      "Acurácia: MLPClassifier(hidden_layer_sizes=(32, 128, 24), max_iter=500, random_state=42)\n",
      "Conjunto de treino: 1.0000\t\tConjunto de teste: 1.0000\n"
     ]
    }
   ],
   "source": [
    "from sklearn.neural_network import MLPClassifier\n",
    "\n",
    "clf = MLPClassifier(hidden_layer_sizes=(32, 128, 24), max_iter=500, activation='relu', random_state=42).fit(x_train, y_train)\n",
    "print_acc(clf, clf.score(x_train, y_train), clf.score(x_test, y_test))"
   ]
  }
 ],
 "metadata": {
  "kernelspec": {
   "display_name": "Python [conda env:keras]",
   "language": "python",
   "name": "conda-env-keras-py"
  },
  "language_info": {
   "codemirror_mode": {
    "name": "ipython",
    "version": 3
   },
   "file_extension": ".py",
   "mimetype": "text/x-python",
   "name": "python",
   "nbconvert_exporter": "python",
   "pygments_lexer": "ipython3",
   "version": "3.8.6"
  }
 },
 "nbformat": 4,
 "nbformat_minor": 4
}
