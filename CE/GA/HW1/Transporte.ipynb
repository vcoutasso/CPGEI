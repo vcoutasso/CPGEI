{
 "cells": [
  {
   "cell_type": "markdown",
   "metadata": {},
   "source": [
    "# Problema de Otimização do Transporte\n",
    "\n",
    "\n",
    "Esse exercício utiliza dados da empresa de transporte fictícia  _\"Trans-cegonha\"_ para resolver um problema de otimização. O objetivo é encontrar a disposição ideal da frota de veículos da empresa, de maneira a maximizar o lucro, satisfazendo todas as restrições do problema.\n",
    "\n",
    "O problema é apresentado com mais detalhes [aqui](transporte4.pdf)."
   ]
  },
  {
   "cell_type": "markdown",
   "metadata": {},
   "source": [
    "## Modelagem\n",
    "\n",
    "O processo de modelagem do problema é fundamental para a utilização de Algoritmos Genéticos, e uma boa modelagem certamente influenciará o resultado final, seja em sua qualidade ou no tempo necessário para obter uma solução satisfatória.\n",
    "\n",
    "Para isso, precisa-se determinar o mapeamento \"genótipo x fenótipo\", bem como a função _fitness_, responsável por indicar quantitativamente a qualidade de um determinado indivíduo."
   ]
  },
  {
   "cell_type": "markdown",
   "metadata": {},
   "source": [
    "### Cromossomo\n",
    "\n",
    "Cromossomo é a representação do problema no formato de um indivíduo que equivale à uma possível solução. Para este problema, escolheu-se usar 27 genes diferentes, cada um representando uma determinada rota e a quantidade de caminhões que foi ali alocada. O motivo dessa escolha foi o fato de que, apesar da quantidade de variáveis e restrições do problema, o resultado final é um reflexo direto da disposição inicial da frota de veículos.\n",
    "\n",
    "Assim, cada indivíduo apresenta a distribuição da frota entre todas as possíveis rotas. A partir dessa informação, pode-se calcular todas as variáveis e considerar todas as restrições para avaliar o candidato à solução.\n",
    "\n",
    "A representação dos genes é binária, e cada gene é representado por uma quantidade de bits diferente. A motivação dessa escolha foi restringir o espaço de busca, ao custo de adicionar um pouco de complexidade na representação. O valor máximo de cada gene foi calculado utilizando uma frota imaginária sem restrição de tamanho. Assim, chegou-se à quantidade ideal de caminhões por rota para atender a demanda. "
   ]
  },
  {
   "cell_type": "markdown",
   "metadata": {},
   "source": [
    "### Função objetivo\n",
    "\n",
    "Como mencionado anteriormente, o exercício se trata de um problema de otimização. Mais especificamente, o objetivo é maximizar o lucro $L$ da empresa fictícia.\n",
    "\n",
    "Cada caminhão pode operar por, no máximo, 24h por dia, ao longo de 30 dias do mês.\n",
    "\n",
    "O lucro é obtido por:\n",
    "\n",
    "$$L = R - C$$\n",
    "\n",
    "A remuneração total $R$ se dá pelo somatório da remuneração indivídual mensal $r$ de cada um dos 68 caminhões que constituem a frota de veículos:\n",
    "\n",
    "$$R = \\sum_{i=1}^{68} r_i$$\n",
    "\n",
    "A remuneração individual de cada veículo leva em consideração a quantidade de viagens $n$ feitas no mês e o pagamento $p$ (tabelado) de cada uma delas:\n",
    "\n",
    "$$r_i = n_i \\cdot p_i$$\n",
    "\n",
    "A quantidade de viagens (ida e volta) pode depender do tamanho da demanda, limitando as viagens ao mês (introduzindo um tempo de ociosidade ao veículo durante o mês). Portanto, é preciso considerar o máximo de viagens que o caminhão pode fazer (com carregamento) $m$, e obter o minímo entre esse valor e o máximo de viagens de duração $t$ possível no mês:\n",
    "\n",
    "$$n_i = min\\bigg\\{m_i, floor\\bigg(\\frac{30 \\cdot 24}{t_i}\\bigg)\\bigg\\}$$\n",
    "\n",
    "A distância entre cada destino e origem possível é tabelada e fornecida, e o tempo de duração de cada viagem precisa levar em consideração o _overhead_ do tempo de carga e descarga:\n",
    "\n",
    "$$t_i = ceil\\bigg(\\frac{d_i}{55}\\bigg) + ceil\\bigg(\\frac{d_i}{75}\\bigg) + 4$$\n",
    "onde 55 é a velocidade média dos veículos (em km/h) na ida, e 75 na volta.\n",
    "\n",
    "O custo total $C$ se dá pelo somatório do custo indivídual mensal $c$ de cada caminhão:\n",
    "\n",
    "$$C = \\sum_{i=1}^{68} c_i$$\n",
    "\n",
    "O custo individual mensal de cada caminhão é obtido pelo produto entre a quantidade de viagens $n$ e o custo tabelado $\\sigma$ de cada viagem:\n",
    "\n",
    "$$c_i = n_i \\cdot \\sigma_i $$\n",
    "\n",
    "A função objetivo nada mais é que o lucro normalizado para o intervalo $[0,1]$. Para isso, usou-se como valor teórico máximo o lucro para a frota teórica (mencionada anteriormente) de 103 caminhões:\n",
    "\n",
    "$$\\Omega = \\frac{R - C}{12,532,255}$$"
   ]
  },
  {
   "cell_type": "markdown",
   "metadata": {},
   "source": [
    "### Restrições\n",
    "\n",
    "O problema conta com um número de restrições que devem ser levadas em consideração a fim de obter uma solução válida. São elas:\n",
    "\n",
    "- Cada caminhão **sempre** transporta exatamente 11 veículos em cada viagem. Se esse requisito não for satisfeito, o caminhão não irá trafegar. (Essa restrição é aplicada no cálculo de viagens que o caminhão fará no mês)\n",
    "- A frota de veículos é composta por 68 caminhões. Não se pode utilizar mais caminhões do que há disponível.\n",
    "- Cada base de origem deve atender, pelo menos, dois destinos diferentes.\n",
    "- A distribuição da frota deve atender, no mínimo, 72% da demanda de transporte.\n",
    "\n",
    "Para quantificar e penalizar os indíviduos que não respeitarem essas restrições, as seguintes penalidades são aplicadas:\n",
    "\n",
    "$$\\hat h_1 = max\\{0, \\frac{Q - 68}{79}\\}$$\n",
    "onde 79 é o valor máximo de caminhões que podem ser alocados (na representação binária) além do limite permitido de 68, e $Q$ é a quantidade de caminhões utilizada.\n",
    "\n",
    "$$\\hat h_2 = max\\{0, \\frac{7 - B}{7}\\}$$\n",
    "onde $B$ é a quantidade de bases que atendem o requisito de fazerem entregas à, pelo menos, dois destinos diferentes.\n",
    "\n",
    "$$\\hat h_3 = max\\{0, \\frac{72 - D}{72}\\}$$\n",
    "onde $D$ é a porcentagem da demanda total atendida.\n",
    "\n",
    "Todas as funções de restrição podem assumir somente valores dentro do intervalo $[0, 1]$."
   ]
  },
  {
   "cell_type": "markdown",
   "metadata": {},
   "source": [
    "### Função _fitness_\n",
    "\n",
    "A função _fitness_, utilizada como métrica para quantificar a qualidade de uma solução, combina as funções objetivo e de penalidade apresentadas acima. Dessa forma, temos:\n",
    "\n",
    "$$fitness = \\frac{R - C}{12,532,255} - \\frac{1}{1.5}\\sum_{i=1}^{3}\\hat h_i$$\n",
    "\n",
    "O somatório das penalidades foi dividido por 1.5 (ao invés de 3) para aumentar o peso das penalidades durante o treinamento, pois nenhuma pode ser desrespeitada. No caso de a penalidade ser maior que o resultado da função _fitness_, atribui-se o valor 0."
   ]
  },
  {
   "cell_type": "markdown",
   "metadata": {},
   "source": [
    "## Implementação\n",
    "\n",
    "A linguagem escolhida para a abordagem do problema foi Python, fazendo uso da implementação de Algoritmos Genéticos da biblioteca Inspyred.\n",
    "\n",
    "Os dados de entrada foram fornecidos no formato de uma planilha. As células a seguir são responsáveis pela leitura da planilha e por sua manipulação para obter apenas os dados que são relevantes no momento."
   ]
  },
  {
   "cell_type": "code",
   "execution_count": 1,
   "metadata": {},
   "outputs": [],
   "source": [
    "import pandas as pd\n",
    "import numpy as np\n",
    "import matplotlib.pyplot as plt\n",
    "import seaborn as sns\n",
    "sns.set()\n",
    "import random\n",
    "import csv\n",
    "\n",
    "import inspyred\n",
    "from inspyred.ec import terminators, selectors, observers, replacers\n",
    "\n",
    "from time import time\n",
    "\n",
    "# Read spreadsheet with data\n",
    "sheet = pd.read_excel('planilha-transporte4.xls', sheet_name='Exercício com AG-2020')"
   ]
  },
  {
   "cell_type": "markdown",
   "metadata": {},
   "source": [
    "Extração dos dados (matrizes) relevantes e armazenamento em objetos para fácil manipulação. As matrizes apresentadas a seguir trazem as bases de origem nas linhas, e as cidades de destino nas colunas.\n",
    "\n",
    "Matriz de demandas:"
   ]
  },
  {
   "cell_type": "code",
   "execution_count": 2,
   "metadata": {},
   "outputs": [
    {
     "data": {
      "text/html": [
       "<style  type=\"text/css\" >\n",
       "</style><table id=\"T_e0ccaf90_d06e_11ea_af57_503eaa8118ab\" ><thead>    <tr>        <th class=\"blank level0\" ></th>        <th class=\"col_heading level0 col0\" >SAO</th>        <th class=\"col_heading level0 col1\" >RIO</th>        <th class=\"col_heading level0 col2\" >BSB</th>        <th class=\"col_heading level0 col3\" >CNF</th>        <th class=\"col_heading level0 col4\" >CWB</th>        <th class=\"col_heading level0 col5\" >REC</th>        <th class=\"col_heading level0 col6\" >POA</th>    </tr></thead><tbody>\n",
       "                <tr>\n",
       "                        <th id=\"T_e0ccaf90_d06e_11ea_af57_503eaa8118ablevel0_row0\" class=\"row_heading level0 row0\" >SCS</th>\n",
       "                        <td id=\"T_e0ccaf90_d06e_11ea_af57_503eaa8118abrow0_col0\" class=\"data row0 col0\" >-</td>\n",
       "                        <td id=\"T_e0ccaf90_d06e_11ea_af57_503eaa8118abrow0_col1\" class=\"data row0 col1\" >1701</td>\n",
       "                        <td id=\"T_e0ccaf90_d06e_11ea_af57_503eaa8118abrow0_col2\" class=\"data row0 col2\" >1453</td>\n",
       "                        <td id=\"T_e0ccaf90_d06e_11ea_af57_503eaa8118abrow0_col3\" class=\"data row0 col3\" >1072</td>\n",
       "                        <td id=\"T_e0ccaf90_d06e_11ea_af57_503eaa8118abrow0_col4\" class=\"data row0 col4\" >975</td>\n",
       "                        <td id=\"T_e0ccaf90_d06e_11ea_af57_503eaa8118abrow0_col5\" class=\"data row0 col5\" >384</td>\n",
       "                        <td id=\"T_e0ccaf90_d06e_11ea_af57_503eaa8118abrow0_col6\" class=\"data row0 col6\" >-</td>\n",
       "            </tr>\n",
       "            <tr>\n",
       "                        <th id=\"T_e0ccaf90_d06e_11ea_af57_503eaa8118ablevel0_row1\" class=\"row_heading level0 row1\" >SJP</th>\n",
       "                        <td id=\"T_e0ccaf90_d06e_11ea_af57_503eaa8118abrow1_col0\" class=\"data row1 col0\" >1908</td>\n",
       "                        <td id=\"T_e0ccaf90_d06e_11ea_af57_503eaa8118abrow1_col1\" class=\"data row1 col1\" >929</td>\n",
       "                        <td id=\"T_e0ccaf90_d06e_11ea_af57_503eaa8118abrow1_col2\" class=\"data row1 col2\" >-</td>\n",
       "                        <td id=\"T_e0ccaf90_d06e_11ea_af57_503eaa8118abrow1_col3\" class=\"data row1 col3\" >431</td>\n",
       "                        <td id=\"T_e0ccaf90_d06e_11ea_af57_503eaa8118abrow1_col4\" class=\"data row1 col4\" >-</td>\n",
       "                        <td id=\"T_e0ccaf90_d06e_11ea_af57_503eaa8118abrow1_col5\" class=\"data row1 col5\" >153</td>\n",
       "                        <td id=\"T_e0ccaf90_d06e_11ea_af57_503eaa8118abrow1_col6\" class=\"data row1 col6\" >218</td>\n",
       "            </tr>\n",
       "            <tr>\n",
       "                        <th id=\"T_e0ccaf90_d06e_11ea_af57_503eaa8118ablevel0_row2\" class=\"row_heading level0 row2\" >SBC</th>\n",
       "                        <td id=\"T_e0ccaf90_d06e_11ea_af57_503eaa8118abrow2_col0\" class=\"data row2 col0\" >-</td>\n",
       "                        <td id=\"T_e0ccaf90_d06e_11ea_af57_503eaa8118abrow2_col1\" class=\"data row2 col1\" >1245</td>\n",
       "                        <td id=\"T_e0ccaf90_d06e_11ea_af57_503eaa8118abrow2_col2\" class=\"data row2 col2\" >-</td>\n",
       "                        <td id=\"T_e0ccaf90_d06e_11ea_af57_503eaa8118abrow2_col3\" class=\"data row2 col3\" >-</td>\n",
       "                        <td id=\"T_e0ccaf90_d06e_11ea_af57_503eaa8118abrow2_col4\" class=\"data row2 col4\" >547</td>\n",
       "                        <td id=\"T_e0ccaf90_d06e_11ea_af57_503eaa8118abrow2_col5\" class=\"data row2 col5\" >-</td>\n",
       "                        <td id=\"T_e0ccaf90_d06e_11ea_af57_503eaa8118abrow2_col6\" class=\"data row2 col6\" >304</td>\n",
       "            </tr>\n",
       "            <tr>\n",
       "                        <th id=\"T_e0ccaf90_d06e_11ea_af57_503eaa8118ablevel0_row3\" class=\"row_heading level0 row3\" >BET</th>\n",
       "                        <td id=\"T_e0ccaf90_d06e_11ea_af57_503eaa8118abrow3_col0\" class=\"data row3 col0\" >5246</td>\n",
       "                        <td id=\"T_e0ccaf90_d06e_11ea_af57_503eaa8118abrow3_col1\" class=\"data row3 col1\" >-</td>\n",
       "                        <td id=\"T_e0ccaf90_d06e_11ea_af57_503eaa8118abrow3_col2\" class=\"data row3 col2\" >1152</td>\n",
       "                        <td id=\"T_e0ccaf90_d06e_11ea_af57_503eaa8118abrow3_col3\" class=\"data row3 col3\" >-</td>\n",
       "                        <td id=\"T_e0ccaf90_d06e_11ea_af57_503eaa8118abrow3_col4\" class=\"data row3 col4\" >1118</td>\n",
       "                        <td id=\"T_e0ccaf90_d06e_11ea_af57_503eaa8118abrow3_col5\" class=\"data row3 col5\" >407</td>\n",
       "                        <td id=\"T_e0ccaf90_d06e_11ea_af57_503eaa8118abrow3_col6\" class=\"data row3 col6\" >-</td>\n",
       "            </tr>\n",
       "            <tr>\n",
       "                        <th id=\"T_e0ccaf90_d06e_11ea_af57_503eaa8118ablevel0_row4\" class=\"row_heading level0 row4\" >DIA</th>\n",
       "                        <td id=\"T_e0ccaf90_d06e_11ea_af57_503eaa8118abrow4_col0\" class=\"data row4 col0\" >-</td>\n",
       "                        <td id=\"T_e0ccaf90_d06e_11ea_af57_503eaa8118abrow4_col1\" class=\"data row4 col1\" >1804</td>\n",
       "                        <td id=\"T_e0ccaf90_d06e_11ea_af57_503eaa8118abrow4_col2\" class=\"data row4 col2\" >1452</td>\n",
       "                        <td id=\"T_e0ccaf90_d06e_11ea_af57_503eaa8118abrow4_col3\" class=\"data row4 col3\" >-</td>\n",
       "                        <td id=\"T_e0ccaf90_d06e_11ea_af57_503eaa8118abrow4_col4\" class=\"data row4 col4\" >-</td>\n",
       "                        <td id=\"T_e0ccaf90_d06e_11ea_af57_503eaa8118abrow4_col5\" class=\"data row4 col5\" >-</td>\n",
       "                        <td id=\"T_e0ccaf90_d06e_11ea_af57_503eaa8118abrow4_col6\" class=\"data row4 col6\" >703</td>\n",
       "            </tr>\n",
       "            <tr>\n",
       "                        <th id=\"T_e0ccaf90_d06e_11ea_af57_503eaa8118ablevel0_row5\" class=\"row_heading level0 row5\" >PIR</th>\n",
       "                        <td id=\"T_e0ccaf90_d06e_11ea_af57_503eaa8118abrow5_col0\" class=\"data row5 col0\" >-</td>\n",
       "                        <td id=\"T_e0ccaf90_d06e_11ea_af57_503eaa8118abrow5_col1\" class=\"data row5 col1\" >-</td>\n",
       "                        <td id=\"T_e0ccaf90_d06e_11ea_af57_503eaa8118abrow5_col2\" class=\"data row5 col2\" >-</td>\n",
       "                        <td id=\"T_e0ccaf90_d06e_11ea_af57_503eaa8118abrow5_col3\" class=\"data row5 col3\" >307</td>\n",
       "                        <td id=\"T_e0ccaf90_d06e_11ea_af57_503eaa8118abrow5_col4\" class=\"data row5 col4\" >325</td>\n",
       "                        <td id=\"T_e0ccaf90_d06e_11ea_af57_503eaa8118abrow5_col5\" class=\"data row5 col5\" >109</td>\n",
       "                        <td id=\"T_e0ccaf90_d06e_11ea_af57_503eaa8118abrow5_col6\" class=\"data row5 col6\" >156</td>\n",
       "            </tr>\n",
       "            <tr>\n",
       "                        <th id=\"T_e0ccaf90_d06e_11ea_af57_503eaa8118ablevel0_row6\" class=\"row_heading level0 row6\" >PRL</th>\n",
       "                        <td id=\"T_e0ccaf90_d06e_11ea_af57_503eaa8118abrow6_col0\" class=\"data row6 col0\" >509</td>\n",
       "                        <td id=\"T_e0ccaf90_d06e_11ea_af57_503eaa8118abrow6_col1\" class=\"data row6 col1\" >-</td>\n",
       "                        <td id=\"T_e0ccaf90_d06e_11ea_af57_503eaa8118abrow6_col2\" class=\"data row6 col2\" >-</td>\n",
       "                        <td id=\"T_e0ccaf90_d06e_11ea_af57_503eaa8118abrow6_col3\" class=\"data row6 col3\" >100</td>\n",
       "                        <td id=\"T_e0ccaf90_d06e_11ea_af57_503eaa8118abrow6_col4\" class=\"data row6 col4\" >111</td>\n",
       "                        <td id=\"T_e0ccaf90_d06e_11ea_af57_503eaa8118abrow6_col5\" class=\"data row6 col5\" >-</td>\n",
       "                        <td id=\"T_e0ccaf90_d06e_11ea_af57_503eaa8118abrow6_col6\" class=\"data row6 col6\" >-</td>\n",
       "            </tr>\n",
       "    </tbody></table>"
      ],
      "text/plain": [
       "<pandas.io.formats.style.Styler at 0x7fe6e81cf670>"
      ]
     },
     "execution_count": 2,
     "metadata": {},
     "output_type": "execute_result"
    }
   ],
   "source": [
    "# Filter spreadsheet to obtain the demand matrix\n",
    "demand = sheet.iloc[3:11, 3:11]\n",
    "demand = demand.rename(columns=demand.iloc[0], index=demand.iloc[:, 0]).iloc[1:, 1:]\n",
    "demand.style.format(\"{:.0f}\", na_rep=\"-\")"
   ]
  },
  {
   "cell_type": "markdown",
   "metadata": {},
   "source": [
    "Matriz de distâncias:"
   ]
  },
  {
   "cell_type": "code",
   "execution_count": 3,
   "metadata": {},
   "outputs": [
    {
     "data": {
      "text/html": [
       "<style  type=\"text/css\" >\n",
       "</style><table id=\"T_e0cf0b8c_d06e_11ea_af57_503eaa8118ab\" ><thead>    <tr>        <th class=\"blank level0\" ></th>        <th class=\"col_heading level0 col0\" >SAO</th>        <th class=\"col_heading level0 col1\" >RIO</th>        <th class=\"col_heading level0 col2\" >BSB</th>        <th class=\"col_heading level0 col3\" >CNF</th>        <th class=\"col_heading level0 col4\" >CWB</th>        <th class=\"col_heading level0 col5\" >REC</th>        <th class=\"col_heading level0 col6\" >POA</th>    </tr></thead><tbody>\n",
       "                <tr>\n",
       "                        <th id=\"T_e0cf0b8c_d06e_11ea_af57_503eaa8118ablevel0_row0\" class=\"row_heading level0 row0\" >SCS</th>\n",
       "                        <td id=\"T_e0cf0b8c_d06e_11ea_af57_503eaa8118abrow0_col0\" class=\"data row0 col0\" >-</td>\n",
       "                        <td id=\"T_e0cf0b8c_d06e_11ea_af57_503eaa8118abrow0_col1\" class=\"data row0 col1\" >448</td>\n",
       "                        <td id=\"T_e0cf0b8c_d06e_11ea_af57_503eaa8118abrow0_col2\" class=\"data row0 col2\" >1021</td>\n",
       "                        <td id=\"T_e0cf0b8c_d06e_11ea_af57_503eaa8118abrow0_col3\" class=\"data row0 col3\" >589</td>\n",
       "                        <td id=\"T_e0cf0b8c_d06e_11ea_af57_503eaa8118abrow0_col4\" class=\"data row0 col4\" >445</td>\n",
       "                        <td id=\"T_e0cf0b8c_d06e_11ea_af57_503eaa8118abrow0_col5\" class=\"data row0 col5\" >2709</td>\n",
       "                        <td id=\"T_e0cf0b8c_d06e_11ea_af57_503eaa8118abrow0_col6\" class=\"data row0 col6\" >-</td>\n",
       "            </tr>\n",
       "            <tr>\n",
       "                        <th id=\"T_e0cf0b8c_d06e_11ea_af57_503eaa8118ablevel0_row1\" class=\"row_heading level0 row1\" >SJP</th>\n",
       "                        <td id=\"T_e0cf0b8c_d06e_11ea_af57_503eaa8118abrow1_col0\" class=\"data row1 col0\" >413</td>\n",
       "                        <td id=\"T_e0cf0b8c_d06e_11ea_af57_503eaa8118abrow1_col1\" class=\"data row1 col1\" >853</td>\n",
       "                        <td id=\"T_e0cf0b8c_d06e_11ea_af57_503eaa8118abrow1_col2\" class=\"data row1 col2\" >-</td>\n",
       "                        <td id=\"T_e0cf0b8c_d06e_11ea_af57_503eaa8118abrow1_col3\" class=\"data row1 col3\" >1001</td>\n",
       "                        <td id=\"T_e0cf0b8c_d06e_11ea_af57_503eaa8118abrow1_col4\" class=\"data row1 col4\" >-</td>\n",
       "                        <td id=\"T_e0cf0b8c_d06e_11ea_af57_503eaa8118abrow1_col5\" class=\"data row1 col5\" >3058</td>\n",
       "                        <td id=\"T_e0cf0b8c_d06e_11ea_af57_503eaa8118abrow1_col6\" class=\"data row1 col6\" >728</td>\n",
       "            </tr>\n",
       "            <tr>\n",
       "                        <th id=\"T_e0cf0b8c_d06e_11ea_af57_503eaa8118ablevel0_row2\" class=\"row_heading level0 row2\" >SBC</th>\n",
       "                        <td id=\"T_e0cf0b8c_d06e_11ea_af57_503eaa8118abrow2_col0\" class=\"data row2 col0\" >-</td>\n",
       "                        <td id=\"T_e0cf0b8c_d06e_11ea_af57_503eaa8118abrow2_col1\" class=\"data row2 col1\" >465</td>\n",
       "                        <td id=\"T_e0cf0b8c_d06e_11ea_af57_503eaa8118abrow2_col2\" class=\"data row2 col2\" >-</td>\n",
       "                        <td id=\"T_e0cf0b8c_d06e_11ea_af57_503eaa8118abrow2_col3\" class=\"data row2 col3\" >-</td>\n",
       "                        <td id=\"T_e0cf0b8c_d06e_11ea_af57_503eaa8118abrow2_col4\" class=\"data row2 col4\" >434</td>\n",
       "                        <td id=\"T_e0cf0b8c_d06e_11ea_af57_503eaa8118abrow2_col5\" class=\"data row2 col5\" >-</td>\n",
       "                        <td id=\"T_e0cf0b8c_d06e_11ea_af57_503eaa8118abrow2_col6\" class=\"data row2 col6\" >1162</td>\n",
       "            </tr>\n",
       "            <tr>\n",
       "                        <th id=\"T_e0cf0b8c_d06e_11ea_af57_503eaa8118ablevel0_row3\" class=\"row_heading level0 row3\" >BET</th>\n",
       "                        <td id=\"T_e0cf0b8c_d06e_11ea_af57_503eaa8118abrow3_col0\" class=\"data row3 col0\" >554</td>\n",
       "                        <td id=\"T_e0cf0b8c_d06e_11ea_af57_503eaa8118abrow3_col1\" class=\"data row3 col1\" >-</td>\n",
       "                        <td id=\"T_e0cf0b8c_d06e_11ea_af57_503eaa8118abrow3_col2\" class=\"data row3 col2\" >746</td>\n",
       "                        <td id=\"T_e0cf0b8c_d06e_11ea_af57_503eaa8118abrow3_col3\" class=\"data row3 col3\" >-</td>\n",
       "                        <td id=\"T_e0cf0b8c_d06e_11ea_af57_503eaa8118abrow3_col4\" class=\"data row3 col4\" >962</td>\n",
       "                        <td id=\"T_e0cf0b8c_d06e_11ea_af57_503eaa8118abrow3_col5\" class=\"data row3 col5\" >2153</td>\n",
       "                        <td id=\"T_e0cf0b8c_d06e_11ea_af57_503eaa8118abrow3_col6\" class=\"data row3 col6\" >-</td>\n",
       "            </tr>\n",
       "            <tr>\n",
       "                        <th id=\"T_e0cf0b8c_d06e_11ea_af57_503eaa8118ablevel0_row4\" class=\"row_heading level0 row4\" >DIA</th>\n",
       "                        <td id=\"T_e0cf0b8c_d06e_11ea_af57_503eaa8118abrow4_col0\" class=\"data row4 col0\" >-</td>\n",
       "                        <td id=\"T_e0cf0b8c_d06e_11ea_af57_503eaa8118abrow4_col1\" class=\"data row4 col1\" >465</td>\n",
       "                        <td id=\"T_e0cf0b8c_d06e_11ea_af57_503eaa8118abrow4_col2\" class=\"data row4 col2\" >1027</td>\n",
       "                        <td id=\"T_e0cf0b8c_d06e_11ea_af57_503eaa8118abrow4_col3\" class=\"data row4 col3\" >-</td>\n",
       "                        <td id=\"T_e0cf0b8c_d06e_11ea_af57_503eaa8118abrow4_col4\" class=\"data row4 col4\" >-</td>\n",
       "                        <td id=\"T_e0cf0b8c_d06e_11ea_af57_503eaa8118abrow4_col5\" class=\"data row4 col5\" >-</td>\n",
       "                        <td id=\"T_e0cf0b8c_d06e_11ea_af57_503eaa8118abrow4_col6\" class=\"data row4 col6\" >1162</td>\n",
       "            </tr>\n",
       "            <tr>\n",
       "                        <th id=\"T_e0cf0b8c_d06e_11ea_af57_503eaa8118ablevel0_row5\" class=\"row_heading level0 row5\" >PIR</th>\n",
       "                        <td id=\"T_e0cf0b8c_d06e_11ea_af57_503eaa8118abrow5_col0\" class=\"data row5 col0\" >-</td>\n",
       "                        <td id=\"T_e0cf0b8c_d06e_11ea_af57_503eaa8118abrow5_col1\" class=\"data row5 col1\" >-</td>\n",
       "                        <td id=\"T_e0cf0b8c_d06e_11ea_af57_503eaa8118abrow5_col2\" class=\"data row5 col2\" >-</td>\n",
       "                        <td id=\"T_e0cf0b8c_d06e_11ea_af57_503eaa8118abrow5_col3\" class=\"data row5 col3\" >650</td>\n",
       "                        <td id=\"T_e0cf0b8c_d06e_11ea_af57_503eaa8118abrow5_col4\" class=\"data row5 col4\" >539</td>\n",
       "                        <td id=\"T_e0cf0b8c_d06e_11ea_af57_503eaa8118abrow5_col5\" class=\"data row5 col5\" >2745</td>\n",
       "                        <td id=\"T_e0cf0b8c_d06e_11ea_af57_503eaa8118abrow5_col6\" class=\"data row5 col6\" >1267</td>\n",
       "            </tr>\n",
       "            <tr>\n",
       "                        <th id=\"T_e0cf0b8c_d06e_11ea_af57_503eaa8118ablevel0_row6\" class=\"row_heading level0 row6\" >PRL</th>\n",
       "                        <td id=\"T_e0cf0b8c_d06e_11ea_af57_503eaa8118abrow6_col0\" class=\"data row6 col0\" >287</td>\n",
       "                        <td id=\"T_e0cf0b8c_d06e_11ea_af57_503eaa8118abrow6_col1\" class=\"data row6 col1\" >-</td>\n",
       "                        <td id=\"T_e0cf0b8c_d06e_11ea_af57_503eaa8118abrow6_col2\" class=\"data row6 col2\" >-</td>\n",
       "                        <td id=\"T_e0cf0b8c_d06e_11ea_af57_503eaa8118abrow6_col3\" class=\"data row6 col3\" >421</td>\n",
       "                        <td id=\"T_e0cf0b8c_d06e_11ea_af57_503eaa8118abrow6_col4\" class=\"data row6 col4\" >698</td>\n",
       "                        <td id=\"T_e0cf0b8c_d06e_11ea_af57_503eaa8118abrow6_col5\" class=\"data row6 col5\" >-</td>\n",
       "                        <td id=\"T_e0cf0b8c_d06e_11ea_af57_503eaa8118abrow6_col6\" class=\"data row6 col6\" >-</td>\n",
       "            </tr>\n",
       "    </tbody></table>"
      ],
      "text/plain": [
       "<pandas.io.formats.style.Styler at 0x7fe6abfd4520>"
      ]
     },
     "execution_count": 3,
     "metadata": {},
     "output_type": "execute_result"
    }
   ],
   "source": [
    "# Filter spreadsheet to obtain the distance matrix\n",
    "dist = sheet.iloc[3:11, 14:22]\n",
    "dist = dist.rename(columns=dist.iloc[0], index=dist.iloc[:, 0]).iloc[1:, 1:]\n",
    "dist.style.format(\"{:.0f}\", na_rep=\"-\")"
   ]
  },
  {
   "cell_type": "markdown",
   "metadata": {},
   "source": [
    "Matriz de custos:"
   ]
  },
  {
   "cell_type": "code",
   "execution_count": 4,
   "metadata": {},
   "outputs": [
    {
     "data": {
      "text/html": [
       "<style  type=\"text/css\" >\n",
       "</style><table id=\"T_e0de6f00_d06e_11ea_af57_503eaa8118ab\" ><thead>    <tr>        <th class=\"blank level0\" ></th>        <th class=\"col_heading level0 col0\" >SAO</th>        <th class=\"col_heading level0 col1\" >RIO</th>        <th class=\"col_heading level0 col2\" >BSB</th>        <th class=\"col_heading level0 col3\" >CNF</th>        <th class=\"col_heading level0 col4\" >CWB</th>        <th class=\"col_heading level0 col5\" >REC</th>        <th class=\"col_heading level0 col6\" >POA</th>    </tr></thead><tbody>\n",
       "                <tr>\n",
       "                        <th id=\"T_e0de6f00_d06e_11ea_af57_503eaa8118ablevel0_row0\" class=\"row_heading level0 row0\" >SCS</th>\n",
       "                        <td id=\"T_e0de6f00_d06e_11ea_af57_503eaa8118abrow0_col0\" class=\"data row0 col0\" >-</td>\n",
       "                        <td id=\"T_e0de6f00_d06e_11ea_af57_503eaa8118abrow0_col1\" class=\"data row0 col1\" >7667</td>\n",
       "                        <td id=\"T_e0de6f00_d06e_11ea_af57_503eaa8118abrow0_col2\" class=\"data row0 col2\" >22509</td>\n",
       "                        <td id=\"T_e0de6f00_d06e_11ea_af57_503eaa8118abrow0_col3\" class=\"data row0 col3\" >9902</td>\n",
       "                        <td id=\"T_e0de6f00_d06e_11ea_af57_503eaa8118abrow0_col4\" class=\"data row0 col4\" >7010</td>\n",
       "                        <td id=\"T_e0de6f00_d06e_11ea_af57_503eaa8118abrow0_col5\" class=\"data row0 col5\" >64803</td>\n",
       "                        <td id=\"T_e0de6f00_d06e_11ea_af57_503eaa8118abrow0_col6\" class=\"data row0 col6\" >-</td>\n",
       "            </tr>\n",
       "            <tr>\n",
       "                        <th id=\"T_e0de6f00_d06e_11ea_af57_503eaa8118ablevel0_row1\" class=\"row_heading level0 row1\" >SJP</th>\n",
       "                        <td id=\"T_e0de6f00_d06e_11ea_af57_503eaa8118abrow1_col0\" class=\"data row1 col0\" >5969</td>\n",
       "                        <td id=\"T_e0de6f00_d06e_11ea_af57_503eaa8118abrow1_col1\" class=\"data row1 col1\" >14539</td>\n",
       "                        <td id=\"T_e0de6f00_d06e_11ea_af57_503eaa8118abrow1_col2\" class=\"data row1 col2\" >-</td>\n",
       "                        <td id=\"T_e0de6f00_d06e_11ea_af57_503eaa8118abrow1_col3\" class=\"data row1 col3\" >16760</td>\n",
       "                        <td id=\"T_e0de6f00_d06e_11ea_af57_503eaa8118abrow1_col4\" class=\"data row1 col4\" >-</td>\n",
       "                        <td id=\"T_e0de6f00_d06e_11ea_af57_503eaa8118abrow1_col5\" class=\"data row1 col5\" >72317</td>\n",
       "                        <td id=\"T_e0de6f00_d06e_11ea_af57_503eaa8118abrow1_col6\" class=\"data row1 col6\" >12407</td>\n",
       "            </tr>\n",
       "            <tr>\n",
       "                        <th id=\"T_e0de6f00_d06e_11ea_af57_503eaa8118ablevel0_row2\" class=\"row_heading level0 row2\" >SBC</th>\n",
       "                        <td id=\"T_e0de6f00_d06e_11ea_af57_503eaa8118abrow2_col0\" class=\"data row2 col0\" >-</td>\n",
       "                        <td id=\"T_e0de6f00_d06e_11ea_af57_503eaa8118abrow2_col1\" class=\"data row2 col1\" >7739</td>\n",
       "                        <td id=\"T_e0de6f00_d06e_11ea_af57_503eaa8118abrow2_col2\" class=\"data row2 col2\" >-</td>\n",
       "                        <td id=\"T_e0de6f00_d06e_11ea_af57_503eaa8118abrow2_col3\" class=\"data row2 col3\" >-</td>\n",
       "                        <td id=\"T_e0de6f00_d06e_11ea_af57_503eaa8118abrow2_col4\" class=\"data row2 col4\" >6645</td>\n",
       "                        <td id=\"T_e0de6f00_d06e_11ea_af57_503eaa8118abrow2_col5\" class=\"data row2 col5\" >-</td>\n",
       "                        <td id=\"T_e0de6f00_d06e_11ea_af57_503eaa8118abrow2_col6\" class=\"data row2 col6\" >19279</td>\n",
       "            </tr>\n",
       "            <tr>\n",
       "                        <th id=\"T_e0de6f00_d06e_11ea_af57_503eaa8118ablevel0_row3\" class=\"row_heading level0 row3\" >BET</th>\n",
       "                        <td id=\"T_e0de6f00_d06e_11ea_af57_503eaa8118abrow3_col0\" class=\"data row3 col0\" >7570</td>\n",
       "                        <td id=\"T_e0de6f00_d06e_11ea_af57_503eaa8118abrow3_col1\" class=\"data row3 col1\" >-</td>\n",
       "                        <td id=\"T_e0de6f00_d06e_11ea_af57_503eaa8118abrow3_col2\" class=\"data row3 col2\" >15189</td>\n",
       "                        <td id=\"T_e0de6f00_d06e_11ea_af57_503eaa8118abrow3_col3\" class=\"data row3 col3\" >-</td>\n",
       "                        <td id=\"T_e0de6f00_d06e_11ea_af57_503eaa8118abrow3_col4\" class=\"data row3 col4\" >15068</td>\n",
       "                        <td id=\"T_e0de6f00_d06e_11ea_af57_503eaa8118abrow3_col5\" class=\"data row3 col5\" >42101</td>\n",
       "                        <td id=\"T_e0de6f00_d06e_11ea_af57_503eaa8118abrow3_col6\" class=\"data row3 col6\" >-</td>\n",
       "            </tr>\n",
       "            <tr>\n",
       "                        <th id=\"T_e0de6f00_d06e_11ea_af57_503eaa8118ablevel0_row4\" class=\"row_heading level0 row4\" >DIA</th>\n",
       "                        <td id=\"T_e0de6f00_d06e_11ea_af57_503eaa8118abrow4_col0\" class=\"data row4 col0\" >-</td>\n",
       "                        <td id=\"T_e0de6f00_d06e_11ea_af57_503eaa8118abrow4_col1\" class=\"data row4 col1\" >10619</td>\n",
       "                        <td id=\"T_e0de6f00_d06e_11ea_af57_503eaa8118abrow4_col2\" class=\"data row4 col2\" >29910</td>\n",
       "                        <td id=\"T_e0de6f00_d06e_11ea_af57_503eaa8118abrow4_col3\" class=\"data row4 col3\" >-</td>\n",
       "                        <td id=\"T_e0de6f00_d06e_11ea_af57_503eaa8118abrow4_col4\" class=\"data row4 col4\" >-</td>\n",
       "                        <td id=\"T_e0de6f00_d06e_11ea_af57_503eaa8118abrow4_col5\" class=\"data row4 col5\" >-</td>\n",
       "                        <td id=\"T_e0de6f00_d06e_11ea_af57_503eaa8118abrow4_col6\" class=\"data row4 col6\" >25711</td>\n",
       "            </tr>\n",
       "            <tr>\n",
       "                        <th id=\"T_e0de6f00_d06e_11ea_af57_503eaa8118ablevel0_row5\" class=\"row_heading level0 row5\" >PIR</th>\n",
       "                        <td id=\"T_e0de6f00_d06e_11ea_af57_503eaa8118abrow5_col0\" class=\"data row5 col0\" >-</td>\n",
       "                        <td id=\"T_e0de6f00_d06e_11ea_af57_503eaa8118abrow5_col1\" class=\"data row5 col1\" >-</td>\n",
       "                        <td id=\"T_e0de6f00_d06e_11ea_af57_503eaa8118abrow5_col2\" class=\"data row5 col2\" >-</td>\n",
       "                        <td id=\"T_e0de6f00_d06e_11ea_af57_503eaa8118abrow5_col3\" class=\"data row5 col3\" >11235</td>\n",
       "                        <td id=\"T_e0de6f00_d06e_11ea_af57_503eaa8118abrow5_col4\" class=\"data row5 col4\" >7110</td>\n",
       "                        <td id=\"T_e0de6f00_d06e_11ea_af57_503eaa8118abrow5_col5\" class=\"data row5 col5\" >49876</td>\n",
       "                        <td id=\"T_e0de6f00_d06e_11ea_af57_503eaa8118abrow5_col6\" class=\"data row5 col6\" >16910</td>\n",
       "            </tr>\n",
       "            <tr>\n",
       "                        <th id=\"T_e0de6f00_d06e_11ea_af57_503eaa8118ablevel0_row6\" class=\"row_heading level0 row6\" >PRL</th>\n",
       "                        <td id=\"T_e0de6f00_d06e_11ea_af57_503eaa8118abrow6_col0\" class=\"data row6 col0\" >3736</td>\n",
       "                        <td id=\"T_e0de6f00_d06e_11ea_af57_503eaa8118abrow6_col1\" class=\"data row6 col1\" >-</td>\n",
       "                        <td id=\"T_e0de6f00_d06e_11ea_af57_503eaa8118abrow6_col2\" class=\"data row6 col2\" >-</td>\n",
       "                        <td id=\"T_e0de6f00_d06e_11ea_af57_503eaa8118abrow6_col3\" class=\"data row6 col3\" >4699</td>\n",
       "                        <td id=\"T_e0de6f00_d06e_11ea_af57_503eaa8118abrow6_col4\" class=\"data row6 col4\" >6711</td>\n",
       "                        <td id=\"T_e0de6f00_d06e_11ea_af57_503eaa8118abrow6_col5\" class=\"data row6 col5\" >-</td>\n",
       "                        <td id=\"T_e0de6f00_d06e_11ea_af57_503eaa8118abrow6_col6\" class=\"data row6 col6\" >-</td>\n",
       "            </tr>\n",
       "    </tbody></table>"
      ],
      "text/plain": [
       "<pandas.io.formats.style.Styler at 0x7fe6abfd67c0>"
      ]
     },
     "execution_count": 4,
     "metadata": {},
     "output_type": "execute_result"
    }
   ],
   "source": [
    "# Filter spreadsheet to obtain the cost matrix\n",
    "cost = sheet.iloc[15:23, 3:11]\n",
    "cost = cost.rename(columns=cost.iloc[0], index=cost.iloc[:, 0]).iloc[1:, 1:]\n",
    "cost.style.format(\"{:.0f}\", na_rep=\"-\")"
   ]
  },
  {
   "cell_type": "markdown",
   "metadata": {},
   "source": [
    "Matriz de remuneração:"
   ]
  },
  {
   "cell_type": "code",
   "execution_count": 5,
   "metadata": {},
   "outputs": [
    {
     "data": {
      "text/html": [
       "<style  type=\"text/css\" >\n",
       "</style><table id=\"T_e0ef2822_d06e_11ea_af57_503eaa8118ab\" ><thead>    <tr>        <th class=\"blank level0\" ></th>        <th class=\"col_heading level0 col0\" >SAO</th>        <th class=\"col_heading level0 col1\" >RIO</th>        <th class=\"col_heading level0 col2\" >BSB</th>        <th class=\"col_heading level0 col3\" >CNF</th>        <th class=\"col_heading level0 col4\" >CWB</th>        <th class=\"col_heading level0 col5\" >REC</th>        <th class=\"col_heading level0 col6\" >POA</th>    </tr></thead><tbody>\n",
       "                <tr>\n",
       "                        <th id=\"T_e0ef2822_d06e_11ea_af57_503eaa8118ablevel0_row0\" class=\"row_heading level0 row0\" >SCS</th>\n",
       "                        <td id=\"T_e0ef2822_d06e_11ea_af57_503eaa8118abrow0_col0\" class=\"data row0 col0\" >-</td>\n",
       "                        <td id=\"T_e0ef2822_d06e_11ea_af57_503eaa8118abrow0_col1\" class=\"data row0 col1\" >10703</td>\n",
       "                        <td id=\"T_e0ef2822_d06e_11ea_af57_503eaa8118abrow0_col2\" class=\"data row0 col2\" >24398</td>\n",
       "                        <td id=\"T_e0ef2822_d06e_11ea_af57_503eaa8118abrow0_col3\" class=\"data row0 col3\" >14069</td>\n",
       "                        <td id=\"T_e0ef2822_d06e_11ea_af57_503eaa8118abrow0_col4\" class=\"data row0 col4\" >10626</td>\n",
       "                        <td id=\"T_e0ef2822_d06e_11ea_af57_503eaa8118abrow0_col5\" class=\"data row0 col5\" >110813</td>\n",
       "                        <td id=\"T_e0ef2822_d06e_11ea_af57_503eaa8118abrow0_col6\" class=\"data row0 col6\" >-</td>\n",
       "            </tr>\n",
       "            <tr>\n",
       "                        <th id=\"T_e0ef2822_d06e_11ea_af57_503eaa8118ablevel0_row1\" class=\"row_heading level0 row1\" >SJP</th>\n",
       "                        <td id=\"T_e0ef2822_d06e_11ea_af57_503eaa8118abrow1_col0\" class=\"data row1 col0\" >11248</td>\n",
       "                        <td id=\"T_e0ef2822_d06e_11ea_af57_503eaa8118abrow1_col1\" class=\"data row1 col1\" >22101</td>\n",
       "                        <td id=\"T_e0ef2822_d06e_11ea_af57_503eaa8118abrow1_col2\" class=\"data row1 col2\" >-</td>\n",
       "                        <td id=\"T_e0ef2822_d06e_11ea_af57_503eaa8118abrow1_col3\" class=\"data row1 col3\" >25729</td>\n",
       "                        <td id=\"T_e0ef2822_d06e_11ea_af57_503eaa8118abrow1_col4\" class=\"data row1 col4\" >-</td>\n",
       "                        <td id=\"T_e0ef2822_d06e_11ea_af57_503eaa8118abrow1_col5\" class=\"data row1 col5\" >127278</td>\n",
       "                        <td id=\"T_e0ef2822_d06e_11ea_af57_503eaa8118abrow1_col6\" class=\"data row1 col6\" >19716</td>\n",
       "            </tr>\n",
       "            <tr>\n",
       "                        <th id=\"T_e0ef2822_d06e_11ea_af57_503eaa8118ablevel0_row2\" class=\"row_heading level0 row2\" >SBC</th>\n",
       "                        <td id=\"T_e0ef2822_d06e_11ea_af57_503eaa8118abrow2_col0\" class=\"data row2 col0\" >-</td>\n",
       "                        <td id=\"T_e0ef2822_d06e_11ea_af57_503eaa8118abrow2_col1\" class=\"data row2 col1\" >12606</td>\n",
       "                        <td id=\"T_e0ef2822_d06e_11ea_af57_503eaa8118abrow2_col2\" class=\"data row2 col2\" >-</td>\n",
       "                        <td id=\"T_e0ef2822_d06e_11ea_af57_503eaa8118abrow2_col3\" class=\"data row2 col3\" >-</td>\n",
       "                        <td id=\"T_e0ef2822_d06e_11ea_af57_503eaa8118abrow2_col4\" class=\"data row2 col4\" >11759</td>\n",
       "                        <td id=\"T_e0ef2822_d06e_11ea_af57_503eaa8118abrow2_col5\" class=\"data row2 col5\" >-</td>\n",
       "                        <td id=\"T_e0ef2822_d06e_11ea_af57_503eaa8118abrow2_col6\" class=\"data row2 col6\" >31504</td>\n",
       "            </tr>\n",
       "            <tr>\n",
       "                        <th id=\"T_e0ef2822_d06e_11ea_af57_503eaa8118ablevel0_row3\" class=\"row_heading level0 row3\" >BET</th>\n",
       "                        <td id=\"T_e0ef2822_d06e_11ea_af57_503eaa8118abrow3_col0\" class=\"data row3 col0\" >12188</td>\n",
       "                        <td id=\"T_e0ef2822_d06e_11ea_af57_503eaa8118abrow3_col1\" class=\"data row3 col1\" >-</td>\n",
       "                        <td id=\"T_e0ef2822_d06e_11ea_af57_503eaa8118abrow3_col2\" class=\"data row3 col2\" >21151</td>\n",
       "                        <td id=\"T_e0ef2822_d06e_11ea_af57_503eaa8118abrow3_col3\" class=\"data row3 col3\" >-</td>\n",
       "                        <td id=\"T_e0ef2822_d06e_11ea_af57_503eaa8118abrow3_col4\" class=\"data row3 col4\" >21164</td>\n",
       "                        <td id=\"T_e0ef2822_d06e_11ea_af57_503eaa8118abrow3_col5\" class=\"data row3 col5\" >53181</td>\n",
       "                        <td id=\"T_e0ef2822_d06e_11ea_af57_503eaa8118abrow3_col6\" class=\"data row3 col6\" >-</td>\n",
       "            </tr>\n",
       "            <tr>\n",
       "                        <th id=\"T_e0ef2822_d06e_11ea_af57_503eaa8118ablevel0_row4\" class=\"row_heading level0 row4\" >DIA</th>\n",
       "                        <td id=\"T_e0ef2822_d06e_11ea_af57_503eaa8118abrow4_col0\" class=\"data row4 col0\" >-</td>\n",
       "                        <td id=\"T_e0ef2822_d06e_11ea_af57_503eaa8118abrow4_col1\" class=\"data row4 col1\" >13854</td>\n",
       "                        <td id=\"T_e0ef2822_d06e_11ea_af57_503eaa8118abrow4_col2\" class=\"data row4 col2\" >27345</td>\n",
       "                        <td id=\"T_e0ef2822_d06e_11ea_af57_503eaa8118abrow4_col3\" class=\"data row4 col3\" >-</td>\n",
       "                        <td id=\"T_e0ef2822_d06e_11ea_af57_503eaa8118abrow4_col4\" class=\"data row4 col4\" >-</td>\n",
       "                        <td id=\"T_e0ef2822_d06e_11ea_af57_503eaa8118abrow4_col5\" class=\"data row4 col5\" >-</td>\n",
       "                        <td id=\"T_e0ef2822_d06e_11ea_af57_503eaa8118abrow4_col6\" class=\"data row4 col6\" >28820</td>\n",
       "            </tr>\n",
       "            <tr>\n",
       "                        <th id=\"T_e0ef2822_d06e_11ea_af57_503eaa8118ablevel0_row5\" class=\"row_heading level0 row5\" >PIR</th>\n",
       "                        <td id=\"T_e0ef2822_d06e_11ea_af57_503eaa8118abrow5_col0\" class=\"data row5 col0\" >-</td>\n",
       "                        <td id=\"T_e0ef2822_d06e_11ea_af57_503eaa8118abrow5_col1\" class=\"data row5 col1\" >-</td>\n",
       "                        <td id=\"T_e0ef2822_d06e_11ea_af57_503eaa8118abrow5_col2\" class=\"data row5 col2\" >-</td>\n",
       "                        <td id=\"T_e0ef2822_d06e_11ea_af57_503eaa8118abrow5_col3\" class=\"data row5 col3\" >22169</td>\n",
       "                        <td id=\"T_e0ef2822_d06e_11ea_af57_503eaa8118abrow5_col4\" class=\"data row5 col4\" >14300</td>\n",
       "                        <td id=\"T_e0ef2822_d06e_11ea_af57_503eaa8118abrow5_col5\" class=\"data row5 col5\" >86746</td>\n",
       "                        <td id=\"T_e0ef2822_d06e_11ea_af57_503eaa8118abrow5_col6\" class=\"data row5 col6\" >33548</td>\n",
       "            </tr>\n",
       "            <tr>\n",
       "                        <th id=\"T_e0ef2822_d06e_11ea_af57_503eaa8118ablevel0_row6\" class=\"row_heading level0 row6\" >PRL</th>\n",
       "                        <td id=\"T_e0ef2822_d06e_11ea_af57_503eaa8118abrow6_col0\" class=\"data row6 col0\" >7356</td>\n",
       "                        <td id=\"T_e0ef2822_d06e_11ea_af57_503eaa8118abrow6_col1\" class=\"data row6 col1\" >-</td>\n",
       "                        <td id=\"T_e0ef2822_d06e_11ea_af57_503eaa8118abrow6_col2\" class=\"data row6 col2\" >-</td>\n",
       "                        <td id=\"T_e0ef2822_d06e_11ea_af57_503eaa8118abrow6_col3\" class=\"data row6 col3\" >11754</td>\n",
       "                        <td id=\"T_e0ef2822_d06e_11ea_af57_503eaa8118abrow6_col4\" class=\"data row6 col4\" >18326</td>\n",
       "                        <td id=\"T_e0ef2822_d06e_11ea_af57_503eaa8118abrow6_col5\" class=\"data row6 col5\" >-</td>\n",
       "                        <td id=\"T_e0ef2822_d06e_11ea_af57_503eaa8118abrow6_col6\" class=\"data row6 col6\" >-</td>\n",
       "            </tr>\n",
       "    </tbody></table>"
      ],
      "text/plain": [
       "<pandas.io.formats.style.Styler at 0x7fe6abfd49d0>"
      ]
     },
     "execution_count": 5,
     "metadata": {},
     "output_type": "execute_result"
    }
   ],
   "source": [
    "# Filter spreadsheet to obtain the pay matrix\n",
    "pay = sheet.iloc[15:23, 14:22]\n",
    "pay = pay.rename(columns=pay.iloc[0], index=pay.iloc[:, 0]).iloc[1:, 1:]\n",
    "pay.style.format(\"{:.0f}\", na_rep=\"-\")"
   ]
  },
  {
   "cell_type": "markdown",
   "metadata": {},
   "source": [
    "Matriz de lucro por viagem completa:"
   ]
  },
  {
   "cell_type": "code",
   "execution_count": 6,
   "metadata": {},
   "outputs": [
    {
     "data": {
      "text/html": [
       "<style  type=\"text/css\" >\n",
       "</style><table id=\"T_e1049388_d06e_11ea_af57_503eaa8118ab\" ><thead>    <tr>        <th class=\"blank level0\" ></th>        <th class=\"col_heading level0 col0\" >SAO</th>        <th class=\"col_heading level0 col1\" >RIO</th>        <th class=\"col_heading level0 col2\" >BSB</th>        <th class=\"col_heading level0 col3\" >CNF</th>        <th class=\"col_heading level0 col4\" >CWB</th>        <th class=\"col_heading level0 col5\" >REC</th>        <th class=\"col_heading level0 col6\" >POA</th>    </tr></thead><tbody>\n",
       "                <tr>\n",
       "                        <th id=\"T_e1049388_d06e_11ea_af57_503eaa8118ablevel0_row0\" class=\"row_heading level0 row0\" >SCS</th>\n",
       "                        <td id=\"T_e1049388_d06e_11ea_af57_503eaa8118abrow0_col0\" class=\"data row0 col0\" >-</td>\n",
       "                        <td id=\"T_e1049388_d06e_11ea_af57_503eaa8118abrow0_col1\" class=\"data row0 col1\" >3036</td>\n",
       "                        <td id=\"T_e1049388_d06e_11ea_af57_503eaa8118abrow0_col2\" class=\"data row0 col2\" >1889</td>\n",
       "                        <td id=\"T_e1049388_d06e_11ea_af57_503eaa8118abrow0_col3\" class=\"data row0 col3\" >4167</td>\n",
       "                        <td id=\"T_e1049388_d06e_11ea_af57_503eaa8118abrow0_col4\" class=\"data row0 col4\" >3616</td>\n",
       "                        <td id=\"T_e1049388_d06e_11ea_af57_503eaa8118abrow0_col5\" class=\"data row0 col5\" >46010</td>\n",
       "                        <td id=\"T_e1049388_d06e_11ea_af57_503eaa8118abrow0_col6\" class=\"data row0 col6\" >-</td>\n",
       "            </tr>\n",
       "            <tr>\n",
       "                        <th id=\"T_e1049388_d06e_11ea_af57_503eaa8118ablevel0_row1\" class=\"row_heading level0 row1\" >SJP</th>\n",
       "                        <td id=\"T_e1049388_d06e_11ea_af57_503eaa8118abrow1_col0\" class=\"data row1 col0\" >5279</td>\n",
       "                        <td id=\"T_e1049388_d06e_11ea_af57_503eaa8118abrow1_col1\" class=\"data row1 col1\" >7562</td>\n",
       "                        <td id=\"T_e1049388_d06e_11ea_af57_503eaa8118abrow1_col2\" class=\"data row1 col2\" >-</td>\n",
       "                        <td id=\"T_e1049388_d06e_11ea_af57_503eaa8118abrow1_col3\" class=\"data row1 col3\" >8969</td>\n",
       "                        <td id=\"T_e1049388_d06e_11ea_af57_503eaa8118abrow1_col4\" class=\"data row1 col4\" >-</td>\n",
       "                        <td id=\"T_e1049388_d06e_11ea_af57_503eaa8118abrow1_col5\" class=\"data row1 col5\" >54961</td>\n",
       "                        <td id=\"T_e1049388_d06e_11ea_af57_503eaa8118abrow1_col6\" class=\"data row1 col6\" >7309</td>\n",
       "            </tr>\n",
       "            <tr>\n",
       "                        <th id=\"T_e1049388_d06e_11ea_af57_503eaa8118ablevel0_row2\" class=\"row_heading level0 row2\" >SBC</th>\n",
       "                        <td id=\"T_e1049388_d06e_11ea_af57_503eaa8118abrow2_col0\" class=\"data row2 col0\" >-</td>\n",
       "                        <td id=\"T_e1049388_d06e_11ea_af57_503eaa8118abrow2_col1\" class=\"data row2 col1\" >4867</td>\n",
       "                        <td id=\"T_e1049388_d06e_11ea_af57_503eaa8118abrow2_col2\" class=\"data row2 col2\" >-</td>\n",
       "                        <td id=\"T_e1049388_d06e_11ea_af57_503eaa8118abrow2_col3\" class=\"data row2 col3\" >-</td>\n",
       "                        <td id=\"T_e1049388_d06e_11ea_af57_503eaa8118abrow2_col4\" class=\"data row2 col4\" >5114</td>\n",
       "                        <td id=\"T_e1049388_d06e_11ea_af57_503eaa8118abrow2_col5\" class=\"data row2 col5\" >-</td>\n",
       "                        <td id=\"T_e1049388_d06e_11ea_af57_503eaa8118abrow2_col6\" class=\"data row2 col6\" >12225</td>\n",
       "            </tr>\n",
       "            <tr>\n",
       "                        <th id=\"T_e1049388_d06e_11ea_af57_503eaa8118ablevel0_row3\" class=\"row_heading level0 row3\" >BET</th>\n",
       "                        <td id=\"T_e1049388_d06e_11ea_af57_503eaa8118abrow3_col0\" class=\"data row3 col0\" >4618</td>\n",
       "                        <td id=\"T_e1049388_d06e_11ea_af57_503eaa8118abrow3_col1\" class=\"data row3 col1\" >-</td>\n",
       "                        <td id=\"T_e1049388_d06e_11ea_af57_503eaa8118abrow3_col2\" class=\"data row3 col2\" >5962</td>\n",
       "                        <td id=\"T_e1049388_d06e_11ea_af57_503eaa8118abrow3_col3\" class=\"data row3 col3\" >-</td>\n",
       "                        <td id=\"T_e1049388_d06e_11ea_af57_503eaa8118abrow3_col4\" class=\"data row3 col4\" >6096</td>\n",
       "                        <td id=\"T_e1049388_d06e_11ea_af57_503eaa8118abrow3_col5\" class=\"data row3 col5\" >11080</td>\n",
       "                        <td id=\"T_e1049388_d06e_11ea_af57_503eaa8118abrow3_col6\" class=\"data row3 col6\" >-</td>\n",
       "            </tr>\n",
       "            <tr>\n",
       "                        <th id=\"T_e1049388_d06e_11ea_af57_503eaa8118ablevel0_row4\" class=\"row_heading level0 row4\" >DIA</th>\n",
       "                        <td id=\"T_e1049388_d06e_11ea_af57_503eaa8118abrow4_col0\" class=\"data row4 col0\" >-</td>\n",
       "                        <td id=\"T_e1049388_d06e_11ea_af57_503eaa8118abrow4_col1\" class=\"data row4 col1\" >3235</td>\n",
       "                        <td id=\"T_e1049388_d06e_11ea_af57_503eaa8118abrow4_col2\" class=\"data row4 col2\" >-2565</td>\n",
       "                        <td id=\"T_e1049388_d06e_11ea_af57_503eaa8118abrow4_col3\" class=\"data row4 col3\" >-</td>\n",
       "                        <td id=\"T_e1049388_d06e_11ea_af57_503eaa8118abrow4_col4\" class=\"data row4 col4\" >-</td>\n",
       "                        <td id=\"T_e1049388_d06e_11ea_af57_503eaa8118abrow4_col5\" class=\"data row4 col5\" >-</td>\n",
       "                        <td id=\"T_e1049388_d06e_11ea_af57_503eaa8118abrow4_col6\" class=\"data row4 col6\" >3109</td>\n",
       "            </tr>\n",
       "            <tr>\n",
       "                        <th id=\"T_e1049388_d06e_11ea_af57_503eaa8118ablevel0_row5\" class=\"row_heading level0 row5\" >PIR</th>\n",
       "                        <td id=\"T_e1049388_d06e_11ea_af57_503eaa8118abrow5_col0\" class=\"data row5 col0\" >-</td>\n",
       "                        <td id=\"T_e1049388_d06e_11ea_af57_503eaa8118abrow5_col1\" class=\"data row5 col1\" >-</td>\n",
       "                        <td id=\"T_e1049388_d06e_11ea_af57_503eaa8118abrow5_col2\" class=\"data row5 col2\" >-</td>\n",
       "                        <td id=\"T_e1049388_d06e_11ea_af57_503eaa8118abrow5_col3\" class=\"data row5 col3\" >10934</td>\n",
       "                        <td id=\"T_e1049388_d06e_11ea_af57_503eaa8118abrow5_col4\" class=\"data row5 col4\" >7190</td>\n",
       "                        <td id=\"T_e1049388_d06e_11ea_af57_503eaa8118abrow5_col5\" class=\"data row5 col5\" >36870</td>\n",
       "                        <td id=\"T_e1049388_d06e_11ea_af57_503eaa8118abrow5_col6\" class=\"data row5 col6\" >16638</td>\n",
       "            </tr>\n",
       "            <tr>\n",
       "                        <th id=\"T_e1049388_d06e_11ea_af57_503eaa8118ablevel0_row6\" class=\"row_heading level0 row6\" >PRL</th>\n",
       "                        <td id=\"T_e1049388_d06e_11ea_af57_503eaa8118abrow6_col0\" class=\"data row6 col0\" >3620</td>\n",
       "                        <td id=\"T_e1049388_d06e_11ea_af57_503eaa8118abrow6_col1\" class=\"data row6 col1\" >-</td>\n",
       "                        <td id=\"T_e1049388_d06e_11ea_af57_503eaa8118abrow6_col2\" class=\"data row6 col2\" >-</td>\n",
       "                        <td id=\"T_e1049388_d06e_11ea_af57_503eaa8118abrow6_col3\" class=\"data row6 col3\" >7055</td>\n",
       "                        <td id=\"T_e1049388_d06e_11ea_af57_503eaa8118abrow6_col4\" class=\"data row6 col4\" >11615</td>\n",
       "                        <td id=\"T_e1049388_d06e_11ea_af57_503eaa8118abrow6_col5\" class=\"data row6 col5\" >-</td>\n",
       "                        <td id=\"T_e1049388_d06e_11ea_af57_503eaa8118abrow6_col6\" class=\"data row6 col6\" >-</td>\n",
       "            </tr>\n",
       "    </tbody></table>"
      ],
      "text/plain": [
       "<pandas.io.formats.style.Styler at 0x7fe6abfd4220>"
      ]
     },
     "execution_count": 6,
     "metadata": {},
     "output_type": "execute_result"
    }
   ],
   "source": [
    "profit = pay - cost\n",
    "profit.style.format(\"{:.0f}\", na_rep=\"-\")"
   ]
  },
  {
   "cell_type": "markdown",
   "metadata": {},
   "source": [
    "Para definir o tamanho ideal da frota, utilizou-se as matrizes acima para calcular a quantidade caminhões necessária para melhor atender a demanda. Nesta célula também são calculados alguns valores que serão utilizados novamente no futuro, para economizar processamento."
   ]
  },
  {
   "cell_type": "code",
   "execution_count": 7,
   "metadata": {},
   "outputs": [
    {
     "name": "stdout",
     "output_type": "stream",
     "text": [
      "Disposição ideal calculada:\n"
     ]
    },
    {
     "data": {
      "text/html": [
       "<style  type=\"text/css\" >\n",
       "</style><table id=\"T_e1117c56_d06e_11ea_af57_503eaa8118ab\" ><thead>    <tr>        <th class=\"blank level0\" ></th>        <th class=\"col_heading level0 col0\" >SAO</th>        <th class=\"col_heading level0 col1\" >RIO</th>        <th class=\"col_heading level0 col2\" >BSB</th>        <th class=\"col_heading level0 col3\" >CNF</th>        <th class=\"col_heading level0 col4\" >CWB</th>        <th class=\"col_heading level0 col5\" >REC</th>        <th class=\"col_heading level0 col6\" >POA</th>    </tr></thead><tbody>\n",
       "                <tr>\n",
       "                        <th id=\"T_e1117c56_d06e_11ea_af57_503eaa8118ablevel0_row0\" class=\"row_heading level0 row0\" >SCS</th>\n",
       "                        <td id=\"T_e1117c56_d06e_11ea_af57_503eaa8118abrow0_col0\" class=\"data row0 col0\" >-</td>\n",
       "                        <td id=\"T_e1117c56_d06e_11ea_af57_503eaa8118abrow0_col1\" class=\"data row0 col1\" >5</td>\n",
       "                        <td id=\"T_e1117c56_d06e_11ea_af57_503eaa8118abrow0_col2\" class=\"data row0 col2\" >7</td>\n",
       "                        <td id=\"T_e1117c56_d06e_11ea_af57_503eaa8118abrow0_col3\" class=\"data row0 col3\" >4</td>\n",
       "                        <td id=\"T_e1117c56_d06e_11ea_af57_503eaa8118abrow0_col4\" class=\"data row0 col4\" >3</td>\n",
       "                        <td id=\"T_e1117c56_d06e_11ea_af57_503eaa8118abrow0_col5\" class=\"data row0 col5\" >5</td>\n",
       "                        <td id=\"T_e1117c56_d06e_11ea_af57_503eaa8118abrow0_col6\" class=\"data row0 col6\" >-</td>\n",
       "            </tr>\n",
       "            <tr>\n",
       "                        <th id=\"T_e1117c56_d06e_11ea_af57_503eaa8118ablevel0_row1\" class=\"row_heading level0 row1\" >SJP</th>\n",
       "                        <td id=\"T_e1117c56_d06e_11ea_af57_503eaa8118abrow1_col0\" class=\"data row1 col0\" >5</td>\n",
       "                        <td id=\"T_e1117c56_d06e_11ea_af57_503eaa8118abrow1_col1\" class=\"data row1 col1\" >4</td>\n",
       "                        <td id=\"T_e1117c56_d06e_11ea_af57_503eaa8118abrow1_col2\" class=\"data row1 col2\" >-</td>\n",
       "                        <td id=\"T_e1117c56_d06e_11ea_af57_503eaa8118abrow1_col3\" class=\"data row1 col3\" >3</td>\n",
       "                        <td id=\"T_e1117c56_d06e_11ea_af57_503eaa8118abrow1_col4\" class=\"data row1 col4\" >-</td>\n",
       "                        <td id=\"T_e1117c56_d06e_11ea_af57_503eaa8118abrow1_col5\" class=\"data row1 col5\" >2</td>\n",
       "                        <td id=\"T_e1117c56_d06e_11ea_af57_503eaa8118abrow1_col6\" class=\"data row1 col6\" >1</td>\n",
       "            </tr>\n",
       "            <tr>\n",
       "                        <th id=\"T_e1117c56_d06e_11ea_af57_503eaa8118ablevel0_row2\" class=\"row_heading level0 row2\" >SBC</th>\n",
       "                        <td id=\"T_e1117c56_d06e_11ea_af57_503eaa8118abrow2_col0\" class=\"data row2 col0\" >-</td>\n",
       "                        <td id=\"T_e1117c56_d06e_11ea_af57_503eaa8118abrow2_col1\" class=\"data row2 col1\" >4</td>\n",
       "                        <td id=\"T_e1117c56_d06e_11ea_af57_503eaa8118abrow2_col2\" class=\"data row2 col2\" >-</td>\n",
       "                        <td id=\"T_e1117c56_d06e_11ea_af57_503eaa8118abrow2_col3\" class=\"data row2 col3\" >-</td>\n",
       "                        <td id=\"T_e1117c56_d06e_11ea_af57_503eaa8118abrow2_col4\" class=\"data row2 col4\" >2</td>\n",
       "                        <td id=\"T_e1117c56_d06e_11ea_af57_503eaa8118abrow2_col5\" class=\"data row2 col5\" >-</td>\n",
       "                        <td id=\"T_e1117c56_d06e_11ea_af57_503eaa8118abrow2_col6\" class=\"data row2 col6\" >2</td>\n",
       "            </tr>\n",
       "            <tr>\n",
       "                        <th id=\"T_e1117c56_d06e_11ea_af57_503eaa8118ablevel0_row3\" class=\"row_heading level0 row3\" >BET</th>\n",
       "                        <td id=\"T_e1117c56_d06e_11ea_af57_503eaa8118abrow3_col0\" class=\"data row3 col0\" >16</td>\n",
       "                        <td id=\"T_e1117c56_d06e_11ea_af57_503eaa8118abrow3_col1\" class=\"data row3 col1\" >-</td>\n",
       "                        <td id=\"T_e1117c56_d06e_11ea_af57_503eaa8118abrow3_col2\" class=\"data row3 col2\" >5</td>\n",
       "                        <td id=\"T_e1117c56_d06e_11ea_af57_503eaa8118abrow3_col3\" class=\"data row3 col3\" >-</td>\n",
       "                        <td id=\"T_e1117c56_d06e_11ea_af57_503eaa8118abrow3_col4\" class=\"data row3 col4\" >6</td>\n",
       "                        <td id=\"T_e1117c56_d06e_11ea_af57_503eaa8118abrow3_col5\" class=\"data row3 col5\" >5</td>\n",
       "                        <td id=\"T_e1117c56_d06e_11ea_af57_503eaa8118abrow3_col6\" class=\"data row3 col6\" >-</td>\n",
       "            </tr>\n",
       "            <tr>\n",
       "                        <th id=\"T_e1117c56_d06e_11ea_af57_503eaa8118ablevel0_row4\" class=\"row_heading level0 row4\" >DIA</th>\n",
       "                        <td id=\"T_e1117c56_d06e_11ea_af57_503eaa8118abrow4_col0\" class=\"data row4 col0\" >-</td>\n",
       "                        <td id=\"T_e1117c56_d06e_11ea_af57_503eaa8118abrow4_col1\" class=\"data row4 col1\" >5</td>\n",
       "                        <td id=\"T_e1117c56_d06e_11ea_af57_503eaa8118abrow4_col2\" class=\"data row4 col2\" >7</td>\n",
       "                        <td id=\"T_e1117c56_d06e_11ea_af57_503eaa8118abrow4_col3\" class=\"data row4 col3\" >-</td>\n",
       "                        <td id=\"T_e1117c56_d06e_11ea_af57_503eaa8118abrow4_col4\" class=\"data row4 col4\" >-</td>\n",
       "                        <td id=\"T_e1117c56_d06e_11ea_af57_503eaa8118abrow4_col5\" class=\"data row4 col5\" >-</td>\n",
       "                        <td id=\"T_e1117c56_d06e_11ea_af57_503eaa8118abrow4_col6\" class=\"data row4 col6\" >4</td>\n",
       "            </tr>\n",
       "            <tr>\n",
       "                        <th id=\"T_e1117c56_d06e_11ea_af57_503eaa8118ablevel0_row5\" class=\"row_heading level0 row5\" >PIR</th>\n",
       "                        <td id=\"T_e1117c56_d06e_11ea_af57_503eaa8118abrow5_col0\" class=\"data row5 col0\" >-</td>\n",
       "                        <td id=\"T_e1117c56_d06e_11ea_af57_503eaa8118abrow5_col1\" class=\"data row5 col1\" >-</td>\n",
       "                        <td id=\"T_e1117c56_d06e_11ea_af57_503eaa8118abrow5_col2\" class=\"data row5 col2\" >-</td>\n",
       "                        <td id=\"T_e1117c56_d06e_11ea_af57_503eaa8118abrow5_col3\" class=\"data row5 col3\" >1</td>\n",
       "                        <td id=\"T_e1117c56_d06e_11ea_af57_503eaa8118abrow5_col4\" class=\"data row5 col4\" >1</td>\n",
       "                        <td id=\"T_e1117c56_d06e_11ea_af57_503eaa8118abrow5_col5\" class=\"data row5 col5\" >2</td>\n",
       "                        <td id=\"T_e1117c56_d06e_11ea_af57_503eaa8118abrow5_col6\" class=\"data row5 col6\" >1</td>\n",
       "            </tr>\n",
       "            <tr>\n",
       "                        <th id=\"T_e1117c56_d06e_11ea_af57_503eaa8118ablevel0_row6\" class=\"row_heading level0 row6\" >PRL</th>\n",
       "                        <td id=\"T_e1117c56_d06e_11ea_af57_503eaa8118abrow6_col0\" class=\"data row6 col0\" >1</td>\n",
       "                        <td id=\"T_e1117c56_d06e_11ea_af57_503eaa8118abrow6_col1\" class=\"data row6 col1\" >-</td>\n",
       "                        <td id=\"T_e1117c56_d06e_11ea_af57_503eaa8118abrow6_col2\" class=\"data row6 col2\" >-</td>\n",
       "                        <td id=\"T_e1117c56_d06e_11ea_af57_503eaa8118abrow6_col3\" class=\"data row6 col3\" >1</td>\n",
       "                        <td id=\"T_e1117c56_d06e_11ea_af57_503eaa8118abrow6_col4\" class=\"data row6 col4\" >1</td>\n",
       "                        <td id=\"T_e1117c56_d06e_11ea_af57_503eaa8118abrow6_col5\" class=\"data row6 col5\" >-</td>\n",
       "                        <td id=\"T_e1117c56_d06e_11ea_af57_503eaa8118abrow6_col6\" class=\"data row6 col6\" >-</td>\n",
       "            </tr>\n",
       "    </tbody></table>"
      ],
      "text/plain": [
       "<pandas.io.formats.style.Styler at 0x7fe6abf9d6a0>"
      ]
     },
     "metadata": {},
     "output_type": "display_data"
    },
    {
     "name": "stdout",
     "output_type": "stream",
     "text": [
      "Tamanho da frota calculada:  103\n"
     ]
    }
   ],
   "source": [
    "# Time per complete trip per route\n",
    "t = (np.ceil((dist / 55).replace(np.nan, 0)) + np.ceil((dist / 75).replace(np.nan, 0)) + 4).replace(4, np.nan)\n",
    "# Maximum number of monthly trips per route considering only time limits\n",
    "max_t = np.floor((30 * 24) / t)\n",
    "# Maximum number of monthly trips per route considering only demand limits\n",
    "max_d = demand // 11\n",
    "# Qty of allowed trips considering demand AND time limits. This is the real value to be used\n",
    "max_r = max_d.where(max_d < max_t, max_t)\n",
    "# Number of vehicles needed to satisfy as much of the demand as possible\n",
    "ideal = np.ceil((demand.replace(np.nan, 0) // 11) / max_r.replace(np.nan, 0))\n",
    "print(\"Disposição ideal calculada:\")\n",
    "display(ideal.style.format(\"{:.0f}\", na_rep=\"-\"))\n",
    "# Used later to obtain the DataFrame representation of an individual\n",
    "mask = ideal > 0\n",
    "print(\"Tamanho da frota calculada: \", ideal.sum().sum().astype(int))"
   ]
  },
  {
   "cell_type": "markdown",
   "metadata": {},
   "source": [
    "Para poder diferenciar os genes dentro da representação binária, precisamos saber onde cada um começa e termina. Essa informação é obtida com a função a seguir, partindo da representação ideal calculada anteriormente."
   ]
  },
  {
   "cell_type": "code",
   "execution_count": 8,
   "metadata": {},
   "outputs": [],
   "source": [
    "def bin_rep_idx(values):\n",
    "    i = 0\n",
    "    indices = []\n",
    "    for v in values:\n",
    "        l = len(bin(v)) - 2\n",
    "        indices.append(l + i)\n",
    "        i = i + l\n",
    "    \n",
    "    print(\"Bits necessários para a representação binária:\", indices[-1])\n",
    "        \n",
    "    return indices[:-1], indices[-1]"
   ]
  },
  {
   "cell_type": "code",
   "execution_count": 9,
   "metadata": {},
   "outputs": [
    {
     "name": "stdout",
     "output_type": "stream",
     "text": [
      "Bits necessários para a representação binária: 63\n"
     ]
    }
   ],
   "source": [
    "# Indices of genes within the binary representation of an individual\n",
    "ideal_int = ideal.replace(np.nan, 0).astype(int)\n",
    "idx, n_bits = bin_rep_idx(ideal_int.to_numpy()[ideal_int.to_numpy() > 0])"
   ]
  },
  {
   "cell_type": "markdown",
   "metadata": {},
   "source": [
    "A partir daqui, começa a ser desenvolvido o código necessário para rodar o Algoritmo Genético.\n",
    "\n",
    "Primeiro, definimos a função responsável por gerar indivíduos aleatóriamente:"
   ]
  },
  {
   "cell_type": "code",
   "execution_count": 10,
   "metadata": {},
   "outputs": [],
   "source": [
    "# Generates random individuals\n",
    "@inspyred.ec.generators.diversify\n",
    "def generate(random, args):\n",
    "    n_bits = args.get('n_bits')\n",
    "    \n",
    "    return [np.random.choice([0, 1]) for i in range(n_bits)]"
   ]
  },
  {
   "cell_type": "markdown",
   "metadata": {},
   "source": [
    "Aqui nós temos a função responsável por calcular o fitness de um determinado indivíduo:"
   ]
  },
  {
   "cell_type": "code",
   "execution_count": 11,
   "metadata": {},
   "outputs": [],
   "source": [
    "# Calculates fitness in order to evaluate a solution candidate\n",
    "@inspyred.ec.evaluators.evaluator\n",
    "def evaluate(candidate, args):\n",
    "    max_t = args.get('max_t')\n",
    "    max_d = args.get('max_d')\n",
    "    profit = args.get('profit')\n",
    "    demand = args.get('demand')\n",
    "    mask = args.get('mask')\n",
    "    idx = args.get('idx')\n",
    "    \n",
    "    df = df_rep(candidate, mask, idx)\n",
    "    total = (df * max_t)\n",
    "    total = total.where(total < max_d, max_d)\n",
    "    \n",
    "    obj = (total * profit).sum().sum()\n",
    "    obj = obj / 12532255\n",
    "    \n",
    "    # Return calculated fitness. If the penalty is higher than the obj value, we set the fitness to zero in order to avoid negative values\n",
    "    return max(0, obj - penalty(df, demand, total))"
   ]
  },
  {
   "cell_type": "markdown",
   "metadata": {},
   "source": [
    "Para melhor organização do código, a penalidade é calculada na função a seguir:"
   ]
  },
  {
   "cell_type": "code",
   "execution_count": 12,
   "metadata": {},
   "outputs": [],
   "source": [
    "# Calculates and returns penalties\n",
    "def penalty(candidate_df, demand, total):\n",
    "    q = candidate_df.sum().sum()\n",
    "    h1 = max(0, (q - 68) / 79)\n",
    "    \n",
    "    b = candidate_df.replace(np.nan, 0).astype(bool).sum(axis=1)\n",
    "    h2 = max(0, (7 - b[b >= 2].count()) / 7)\n",
    "    \n",
    "    d = total.sum().sum() * 100 / (demand / 11).sum().sum()\n",
    "    h3 = max(0, (72 - d) / 72) \n",
    "    \n",
    "    return (h1 + h2 + h3) / 1.5"
   ]
  },
  {
   "cell_type": "markdown",
   "metadata": {},
   "source": [
    "Essa função é responsável por transformar a representação binária do indivíduo em um objeto `DataFrame` mais fácil de ser trabalhado e interpretado."
   ]
  },
  {
   "cell_type": "code",
   "execution_count": 13,
   "metadata": {},
   "outputs": [],
   "source": [
    "# This function decodes the binary representation of a given individual and returns a DataFrame\n",
    "def df_rep(candidate, mask, idx):\n",
    "    genes = np.split(candidate, idx)\n",
    "    int_rep = []\n",
    "    \n",
    "    for g in genes:\n",
    "        int_rep.append(int(\"\".join([str(bit) for bit in g]), 2))\n",
    "    \n",
    "    df = ideal.copy().replace(0, np.nan)\n",
    "    df.iloc[mask] = int_rep\n",
    "    \n",
    "    return df"
   ]
  },
  {
   "cell_type": "markdown",
   "metadata": {},
   "source": [
    "`plot()` recebe o índice de um arquivo de log e plota o gráfico de fitness para o melhor e o pior indíviduo de cada geração, bem como a média da métrica."
   ]
  },
  {
   "cell_type": "code",
   "execution_count": 14,
   "metadata": {},
   "outputs": [],
   "source": [
    "# Plot fitness graph\n",
    "def plot(index):\n",
    "    csvfile = open(f\"inspyred-statistics-file-{index}.csv\")\n",
    "    reader = csv.reader(csvfile, delimiter=',')\n",
    "\n",
    "    best_stats = []\n",
    "    worst_stats = []\n",
    "    avg_stats = []\n",
    "    generations = []\n",
    "\n",
    "    for row in reader:\n",
    "        generations.append(int(row[0]))\n",
    "        worst_stats.append(float(row[2]))\n",
    "        best_stats.append(float(row[3]))\n",
    "        avg_stats.append(float(row[4]))\n",
    "\n",
    "    plt.figure(dpi=100)\n",
    "    plt.plot(generations, best_stats, 'g', label='best')\n",
    "    plt.plot(generations, avg_stats, 'b', label='average')\n",
    "    plt.plot(generations, worst_stats, 'r', label='worst')\n",
    "    plt.xlabel('Generation')\n",
    "    plt.ylabel('Fitness')\n",
    "    plt.legend()\n",
    "\n",
    "    plt.show()"
   ]
  },
  {
   "cell_type": "markdown",
   "metadata": {},
   "source": [
    "Aqui o objeto que representa o AG é criado e todos seus parâmetros configurados. A função `main()` retorna o indivíduo com maior valor de _fitness_ depois que o processo de evolução chega ao fim."
   ]
  },
  {
   "cell_type": "code",
   "execution_count": 15,
   "metadata": {},
   "outputs": [],
   "source": [
    "# Genetic Algorithm declaration\n",
    "def main(i):\n",
    "    rand = random.Random()\n",
    "    rand.seed(int(time()))\n",
    "    \n",
    "    f_stats = open(f\"inspyred-statistics-file-{i}.csv\", 'w')\n",
    "    f_indv = open(f\"inspyred-individuals-file-{i}.csv\", 'w')\n",
    "    \n",
    "    pop_size = 150\n",
    "\n",
    "    ga = inspyred.ec.GA(rand)\n",
    "    ga.observer = observers.file_observer\n",
    "    ga.terminator = terminators.generation_termination\n",
    "    ga.selector = selectors.tournament_selection\n",
    "    ga.replacer = replacers.generational_replacement \n",
    "\n",
    "    final_pop = ga.evolve(generator=generate,\n",
    "                          evaluator=evaluate,\n",
    "                          statistics_file=f_stats,\n",
    "                          individuals_file=f_indv,\n",
    "                          tournament_size=3,\n",
    "                          max_generations=300,\n",
    "                          crossover_rate=0.5,\n",
    "                          mutation_rate=0.02,\n",
    "                          num_crossover_points=2,\n",
    "                          pop_size=pop_size,\n",
    "                          num_elites=1,\n",
    "                          n_bits=n_bits,\n",
    "                          max_t=max_t,\n",
    "                          max_d=max_d,\n",
    "                          profit=profit,\n",
    "                          demand=demand,\n",
    "                          mask=mask,\n",
    "                          idx=idx)\n",
    "\n",
    "    return max(final_pop)"
   ]
  },
  {
   "cell_type": "markdown",
   "metadata": {},
   "source": [
    "Repete o processo de evolução `repeat` vezes e plota o gráfico da melhor rodada."
   ]
  },
  {
   "cell_type": "code",
   "execution_count": 16,
   "metadata": {},
   "outputs": [
    {
     "data": {
      "image/png": "[encoded data removed]",
      "text/plain": [
       "<Figure size 600x400 with 1 Axes>"
      ]
     },
     "metadata": {},
     "output_type": "display_data"
    }
   ],
   "source": [
    "repeat = 10\n",
    "best_l = []\n",
    "    \n",
    "for i in range(repeat):\n",
    "    best = main(i)\n",
    "    best_l.append(best)\n",
    "        \n",
    "best = max(best_l)\n",
    "index = best_l.index(best)\n",
    "plot(index)"
   ]
  },
  {
   "cell_type": "markdown",
   "metadata": {},
   "source": [
    "Interpretação do resultado final obtido:"
   ]
  },
  {
   "cell_type": "code",
   "execution_count": 17,
   "metadata": {},
   "outputs": [
    {
     "name": "stdout",
     "output_type": "stream",
     "text": [
      "Cobertura da demanda total: \t\t79.64%\n",
      "Lucro total: \t\t\t\t11,552,371\n",
      "Quantidade de caminhões utilizados: \t68\n",
      "Fitness do candidato final: \t\t0.92181\n",
      "Penalidade aplicada ao candidato final: 0.00000\n",
      "\n",
      "Disposição dos caminhões:\n",
      "\n"
     ]
    },
    {
     "data": {
      "text/html": [
       "<style  type=\"text/css\" >\n",
       "</style><table id=\"T_fcb7c6fa_d077_11ea_af57_503eaa8118ab\" ><thead>    <tr>        <th class=\"blank level0\" ></th>        <th class=\"col_heading level0 col0\" >SAO</th>        <th class=\"col_heading level0 col1\" >RIO</th>        <th class=\"col_heading level0 col2\" >BSB</th>        <th class=\"col_heading level0 col3\" >CNF</th>        <th class=\"col_heading level0 col4\" >CWB</th>        <th class=\"col_heading level0 col5\" >REC</th>        <th class=\"col_heading level0 col6\" >POA</th>    </tr></thead><tbody>\n",
       "                <tr>\n",
       "                        <th id=\"T_fcb7c6fa_d077_11ea_af57_503eaa8118ablevel0_row0\" class=\"row_heading level0 row0\" >SCS</th>\n",
       "                        <td id=\"T_fcb7c6fa_d077_11ea_af57_503eaa8118abrow0_col0\" class=\"data row0 col0\" >-</td>\n",
       "                        <td id=\"T_fcb7c6fa_d077_11ea_af57_503eaa8118abrow0_col1\" class=\"data row0 col1\" >4</td>\n",
       "                        <td id=\"T_fcb7c6fa_d077_11ea_af57_503eaa8118abrow0_col2\" class=\"data row0 col2\" >0</td>\n",
       "                        <td id=\"T_fcb7c6fa_d077_11ea_af57_503eaa8118abrow0_col3\" class=\"data row0 col3\" >3</td>\n",
       "                        <td id=\"T_fcb7c6fa_d077_11ea_af57_503eaa8118abrow0_col4\" class=\"data row0 col4\" >2</td>\n",
       "                        <td id=\"T_fcb7c6fa_d077_11ea_af57_503eaa8118abrow0_col5\" class=\"data row0 col5\" >5</td>\n",
       "                        <td id=\"T_fcb7c6fa_d077_11ea_af57_503eaa8118abrow0_col6\" class=\"data row0 col6\" >-</td>\n",
       "            </tr>\n",
       "            <tr>\n",
       "                        <th id=\"T_fcb7c6fa_d077_11ea_af57_503eaa8118ablevel0_row1\" class=\"row_heading level0 row1\" >SJP</th>\n",
       "                        <td id=\"T_fcb7c6fa_d077_11ea_af57_503eaa8118abrow1_col0\" class=\"data row1 col0\" >4</td>\n",
       "                        <td id=\"T_fcb7c6fa_d077_11ea_af57_503eaa8118abrow1_col1\" class=\"data row1 col1\" >4</td>\n",
       "                        <td id=\"T_fcb7c6fa_d077_11ea_af57_503eaa8118abrow1_col2\" class=\"data row1 col2\" >-</td>\n",
       "                        <td id=\"T_fcb7c6fa_d077_11ea_af57_503eaa8118abrow1_col3\" class=\"data row1 col3\" >2</td>\n",
       "                        <td id=\"T_fcb7c6fa_d077_11ea_af57_503eaa8118abrow1_col4\" class=\"data row1 col4\" >-</td>\n",
       "                        <td id=\"T_fcb7c6fa_d077_11ea_af57_503eaa8118abrow1_col5\" class=\"data row1 col5\" >2</td>\n",
       "                        <td id=\"T_fcb7c6fa_d077_11ea_af57_503eaa8118abrow1_col6\" class=\"data row1 col6\" >1</td>\n",
       "            </tr>\n",
       "            <tr>\n",
       "                        <th id=\"T_fcb7c6fa_d077_11ea_af57_503eaa8118ablevel0_row2\" class=\"row_heading level0 row2\" >SBC</th>\n",
       "                        <td id=\"T_fcb7c6fa_d077_11ea_af57_503eaa8118abrow2_col0\" class=\"data row2 col0\" >-</td>\n",
       "                        <td id=\"T_fcb7c6fa_d077_11ea_af57_503eaa8118abrow2_col1\" class=\"data row2 col1\" >3</td>\n",
       "                        <td id=\"T_fcb7c6fa_d077_11ea_af57_503eaa8118abrow2_col2\" class=\"data row2 col2\" >-</td>\n",
       "                        <td id=\"T_fcb7c6fa_d077_11ea_af57_503eaa8118abrow2_col3\" class=\"data row2 col3\" >-</td>\n",
       "                        <td id=\"T_fcb7c6fa_d077_11ea_af57_503eaa8118abrow2_col4\" class=\"data row2 col4\" >1</td>\n",
       "                        <td id=\"T_fcb7c6fa_d077_11ea_af57_503eaa8118abrow2_col5\" class=\"data row2 col5\" >-</td>\n",
       "                        <td id=\"T_fcb7c6fa_d077_11ea_af57_503eaa8118abrow2_col6\" class=\"data row2 col6\" >2</td>\n",
       "            </tr>\n",
       "            <tr>\n",
       "                        <th id=\"T_fcb7c6fa_d077_11ea_af57_503eaa8118ablevel0_row3\" class=\"row_heading level0 row3\" >BET</th>\n",
       "                        <td id=\"T_fcb7c6fa_d077_11ea_af57_503eaa8118abrow3_col0\" class=\"data row3 col0\" >15</td>\n",
       "                        <td id=\"T_fcb7c6fa_d077_11ea_af57_503eaa8118abrow3_col1\" class=\"data row3 col1\" >-</td>\n",
       "                        <td id=\"T_fcb7c6fa_d077_11ea_af57_503eaa8118abrow3_col2\" class=\"data row3 col2\" >4</td>\n",
       "                        <td id=\"T_fcb7c6fa_d077_11ea_af57_503eaa8118abrow3_col3\" class=\"data row3 col3\" >-</td>\n",
       "                        <td id=\"T_fcb7c6fa_d077_11ea_af57_503eaa8118abrow3_col4\" class=\"data row3 col4\" >5</td>\n",
       "                        <td id=\"T_fcb7c6fa_d077_11ea_af57_503eaa8118abrow3_col5\" class=\"data row3 col5\" >0</td>\n",
       "                        <td id=\"T_fcb7c6fa_d077_11ea_af57_503eaa8118abrow3_col6\" class=\"data row3 col6\" >-</td>\n",
       "            </tr>\n",
       "            <tr>\n",
       "                        <th id=\"T_fcb7c6fa_d077_11ea_af57_503eaa8118ablevel0_row4\" class=\"row_heading level0 row4\" >DIA</th>\n",
       "                        <td id=\"T_fcb7c6fa_d077_11ea_af57_503eaa8118abrow4_col0\" class=\"data row4 col0\" >-</td>\n",
       "                        <td id=\"T_fcb7c6fa_d077_11ea_af57_503eaa8118abrow4_col1\" class=\"data row4 col1\" >4</td>\n",
       "                        <td id=\"T_fcb7c6fa_d077_11ea_af57_503eaa8118abrow4_col2\" class=\"data row4 col2\" >0</td>\n",
       "                        <td id=\"T_fcb7c6fa_d077_11ea_af57_503eaa8118abrow4_col3\" class=\"data row4 col3\" >-</td>\n",
       "                        <td id=\"T_fcb7c6fa_d077_11ea_af57_503eaa8118abrow4_col4\" class=\"data row4 col4\" >-</td>\n",
       "                        <td id=\"T_fcb7c6fa_d077_11ea_af57_503eaa8118abrow4_col5\" class=\"data row4 col5\" >-</td>\n",
       "                        <td id=\"T_fcb7c6fa_d077_11ea_af57_503eaa8118abrow4_col6\" class=\"data row4 col6\" >1</td>\n",
       "            </tr>\n",
       "            <tr>\n",
       "                        <th id=\"T_fcb7c6fa_d077_11ea_af57_503eaa8118ablevel0_row5\" class=\"row_heading level0 row5\" >PIR</th>\n",
       "                        <td id=\"T_fcb7c6fa_d077_11ea_af57_503eaa8118abrow5_col0\" class=\"data row5 col0\" >-</td>\n",
       "                        <td id=\"T_fcb7c6fa_d077_11ea_af57_503eaa8118abrow5_col1\" class=\"data row5 col1\" >-</td>\n",
       "                        <td id=\"T_fcb7c6fa_d077_11ea_af57_503eaa8118abrow5_col2\" class=\"data row5 col2\" >-</td>\n",
       "                        <td id=\"T_fcb7c6fa_d077_11ea_af57_503eaa8118abrow5_col3\" class=\"data row5 col3\" >1</td>\n",
       "                        <td id=\"T_fcb7c6fa_d077_11ea_af57_503eaa8118abrow5_col4\" class=\"data row5 col4\" >1</td>\n",
       "                        <td id=\"T_fcb7c6fa_d077_11ea_af57_503eaa8118abrow5_col5\" class=\"data row5 col5\" >1</td>\n",
       "                        <td id=\"T_fcb7c6fa_d077_11ea_af57_503eaa8118abrow5_col6\" class=\"data row5 col6\" >1</td>\n",
       "            </tr>\n",
       "            <tr>\n",
       "                        <th id=\"T_fcb7c6fa_d077_11ea_af57_503eaa8118ablevel0_row6\" class=\"row_heading level0 row6\" >PRL</th>\n",
       "                        <td id=\"T_fcb7c6fa_d077_11ea_af57_503eaa8118abrow6_col0\" class=\"data row6 col0\" >1</td>\n",
       "                        <td id=\"T_fcb7c6fa_d077_11ea_af57_503eaa8118abrow6_col1\" class=\"data row6 col1\" >-</td>\n",
       "                        <td id=\"T_fcb7c6fa_d077_11ea_af57_503eaa8118abrow6_col2\" class=\"data row6 col2\" >-</td>\n",
       "                        <td id=\"T_fcb7c6fa_d077_11ea_af57_503eaa8118abrow6_col3\" class=\"data row6 col3\" >0</td>\n",
       "                        <td id=\"T_fcb7c6fa_d077_11ea_af57_503eaa8118abrow6_col4\" class=\"data row6 col4\" >1</td>\n",
       "                        <td id=\"T_fcb7c6fa_d077_11ea_af57_503eaa8118abrow6_col5\" class=\"data row6 col5\" >-</td>\n",
       "                        <td id=\"T_fcb7c6fa_d077_11ea_af57_503eaa8118abrow6_col6\" class=\"data row6 col6\" >-</td>\n",
       "            </tr>\n",
       "    </tbody></table>"
      ],
      "text/plain": [
       "<pandas.io.formats.style.Styler at 0x7fe6bbdb8910>"
      ]
     },
     "metadata": {},
     "output_type": "display_data"
    },
    {
     "name": "stdout",
     "output_type": "stream",
     "text": [
      "\n",
      "Veículos transportados por mês:\n"
     ]
    },
    {
     "data": {
      "text/html": [
       "<style  type=\"text/css\" >\n",
       "</style><table id=\"T_fcc4819c_d077_11ea_af57_503eaa8118ab\" ><thead>    <tr>        <th class=\"blank level0\" ></th>        <th class=\"col_heading level0 col0\" >SAO</th>        <th class=\"col_heading level0 col1\" >RIO</th>        <th class=\"col_heading level0 col2\" >BSB</th>        <th class=\"col_heading level0 col3\" >CNF</th>        <th class=\"col_heading level0 col4\" >CWB</th>        <th class=\"col_heading level0 col5\" >REC</th>        <th class=\"col_heading level0 col6\" >POA</th>    </tr></thead><tbody>\n",
       "                <tr>\n",
       "                        <th id=\"T_fcc4819c_d077_11ea_af57_503eaa8118ablevel0_row0\" class=\"row_heading level0 row0\" >SCS</th>\n",
       "                        <td id=\"T_fcc4819c_d077_11ea_af57_503eaa8118abrow0_col0\" class=\"data row0 col0\" >-</td>\n",
       "                        <td id=\"T_fcc4819c_d077_11ea_af57_503eaa8118abrow0_col1\" class=\"data row0 col1\" >1628</td>\n",
       "                        <td id=\"T_fcc4819c_d077_11ea_af57_503eaa8118abrow0_col2\" class=\"data row0 col2\" >0</td>\n",
       "                        <td id=\"T_fcc4819c_d077_11ea_af57_503eaa8118abrow0_col3\" class=\"data row0 col3\" >1023</td>\n",
       "                        <td id=\"T_fcc4819c_d077_11ea_af57_503eaa8118abrow0_col4\" class=\"data row0 col4\" >814</td>\n",
       "                        <td id=\"T_fcc4819c_d077_11ea_af57_503eaa8118abrow0_col5\" class=\"data row0 col5\" >374</td>\n",
       "                        <td id=\"T_fcc4819c_d077_11ea_af57_503eaa8118abrow0_col6\" class=\"data row0 col6\" >-</td>\n",
       "            </tr>\n",
       "            <tr>\n",
       "                        <th id=\"T_fcc4819c_d077_11ea_af57_503eaa8118ablevel0_row1\" class=\"row_heading level0 row1\" >SJP</th>\n",
       "                        <td id=\"T_fcc4819c_d077_11ea_af57_503eaa8118abrow1_col0\" class=\"data row1 col0\" >1760</td>\n",
       "                        <td id=\"T_fcc4819c_d077_11ea_af57_503eaa8118abrow1_col1\" class=\"data row1 col1\" >924</td>\n",
       "                        <td id=\"T_fcc4819c_d077_11ea_af57_503eaa8118abrow1_col2\" class=\"data row1 col2\" >-</td>\n",
       "                        <td id=\"T_fcc4819c_d077_11ea_af57_503eaa8118abrow1_col3\" class=\"data row1 col3\" >418</td>\n",
       "                        <td id=\"T_fcc4819c_d077_11ea_af57_503eaa8118abrow1_col4\" class=\"data row1 col4\" >-</td>\n",
       "                        <td id=\"T_fcc4819c_d077_11ea_af57_503eaa8118abrow1_col5\" class=\"data row1 col5\" >143</td>\n",
       "                        <td id=\"T_fcc4819c_d077_11ea_af57_503eaa8118abrow1_col6\" class=\"data row1 col6\" >209</td>\n",
       "            </tr>\n",
       "            <tr>\n",
       "                        <th id=\"T_fcc4819c_d077_11ea_af57_503eaa8118ablevel0_row2\" class=\"row_heading level0 row2\" >SBC</th>\n",
       "                        <td id=\"T_fcc4819c_d077_11ea_af57_503eaa8118abrow2_col0\" class=\"data row2 col0\" >-</td>\n",
       "                        <td id=\"T_fcc4819c_d077_11ea_af57_503eaa8118abrow2_col1\" class=\"data row2 col1\" >1188</td>\n",
       "                        <td id=\"T_fcc4819c_d077_11ea_af57_503eaa8118abrow2_col2\" class=\"data row2 col2\" >-</td>\n",
       "                        <td id=\"T_fcc4819c_d077_11ea_af57_503eaa8118abrow2_col3\" class=\"data row2 col3\" >-</td>\n",
       "                        <td id=\"T_fcc4819c_d077_11ea_af57_503eaa8118abrow2_col4\" class=\"data row2 col4\" >440</td>\n",
       "                        <td id=\"T_fcc4819c_d077_11ea_af57_503eaa8118abrow2_col5\" class=\"data row2 col5\" >-</td>\n",
       "                        <td id=\"T_fcc4819c_d077_11ea_af57_503eaa8118abrow2_col6\" class=\"data row2 col6\" >297</td>\n",
       "            </tr>\n",
       "            <tr>\n",
       "                        <th id=\"T_fcc4819c_d077_11ea_af57_503eaa8118ablevel0_row3\" class=\"row_heading level0 row3\" >BET</th>\n",
       "                        <td id=\"T_fcc4819c_d077_11ea_af57_503eaa8118abrow3_col0\" class=\"data row3 col0\" >5115</td>\n",
       "                        <td id=\"T_fcc4819c_d077_11ea_af57_503eaa8118abrow3_col1\" class=\"data row3 col1\" >-</td>\n",
       "                        <td id=\"T_fcc4819c_d077_11ea_af57_503eaa8118abrow3_col2\" class=\"data row3 col2\" >1100</td>\n",
       "                        <td id=\"T_fcc4819c_d077_11ea_af57_503eaa8118abrow3_col3\" class=\"data row3 col3\" >-</td>\n",
       "                        <td id=\"T_fcc4819c_d077_11ea_af57_503eaa8118abrow3_col4\" class=\"data row3 col4\" >1100</td>\n",
       "                        <td id=\"T_fcc4819c_d077_11ea_af57_503eaa8118abrow3_col5\" class=\"data row3 col5\" >0</td>\n",
       "                        <td id=\"T_fcc4819c_d077_11ea_af57_503eaa8118abrow3_col6\" class=\"data row3 col6\" >-</td>\n",
       "            </tr>\n",
       "            <tr>\n",
       "                        <th id=\"T_fcc4819c_d077_11ea_af57_503eaa8118ablevel0_row4\" class=\"row_heading level0 row4\" >DIA</th>\n",
       "                        <td id=\"T_fcc4819c_d077_11ea_af57_503eaa8118abrow4_col0\" class=\"data row4 col0\" >-</td>\n",
       "                        <td id=\"T_fcc4819c_d077_11ea_af57_503eaa8118abrow4_col1\" class=\"data row4 col1\" >1584</td>\n",
       "                        <td id=\"T_fcc4819c_d077_11ea_af57_503eaa8118abrow4_col2\" class=\"data row4 col2\" >0</td>\n",
       "                        <td id=\"T_fcc4819c_d077_11ea_af57_503eaa8118abrow4_col3\" class=\"data row4 col3\" >-</td>\n",
       "                        <td id=\"T_fcc4819c_d077_11ea_af57_503eaa8118abrow4_col4\" class=\"data row4 col4\" >-</td>\n",
       "                        <td id=\"T_fcc4819c_d077_11ea_af57_503eaa8118abrow4_col5\" class=\"data row4 col5\" >-</td>\n",
       "                        <td id=\"T_fcc4819c_d077_11ea_af57_503eaa8118abrow4_col6\" class=\"data row4 col6\" >187</td>\n",
       "            </tr>\n",
       "            <tr>\n",
       "                        <th id=\"T_fcc4819c_d077_11ea_af57_503eaa8118ablevel0_row5\" class=\"row_heading level0 row5\" >PIR</th>\n",
       "                        <td id=\"T_fcc4819c_d077_11ea_af57_503eaa8118abrow5_col0\" class=\"data row5 col0\" >-</td>\n",
       "                        <td id=\"T_fcc4819c_d077_11ea_af57_503eaa8118abrow5_col1\" class=\"data row5 col1\" >-</td>\n",
       "                        <td id=\"T_fcc4819c_d077_11ea_af57_503eaa8118abrow5_col2\" class=\"data row5 col2\" >-</td>\n",
       "                        <td id=\"T_fcc4819c_d077_11ea_af57_503eaa8118abrow5_col3\" class=\"data row5 col3\" >297</td>\n",
       "                        <td id=\"T_fcc4819c_d077_11ea_af57_503eaa8118abrow5_col4\" class=\"data row5 col4\" >319</td>\n",
       "                        <td id=\"T_fcc4819c_d077_11ea_af57_503eaa8118abrow5_col5\" class=\"data row5 col5\" >77</td>\n",
       "                        <td id=\"T_fcc4819c_d077_11ea_af57_503eaa8118abrow5_col6\" class=\"data row5 col6\" >154</td>\n",
       "            </tr>\n",
       "            <tr>\n",
       "                        <th id=\"T_fcc4819c_d077_11ea_af57_503eaa8118ablevel0_row6\" class=\"row_heading level0 row6\" >PRL</th>\n",
       "                        <td id=\"T_fcc4819c_d077_11ea_af57_503eaa8118abrow6_col0\" class=\"data row6 col0\" >506</td>\n",
       "                        <td id=\"T_fcc4819c_d077_11ea_af57_503eaa8118abrow6_col1\" class=\"data row6 col1\" >-</td>\n",
       "                        <td id=\"T_fcc4819c_d077_11ea_af57_503eaa8118abrow6_col2\" class=\"data row6 col2\" >-</td>\n",
       "                        <td id=\"T_fcc4819c_d077_11ea_af57_503eaa8118abrow6_col3\" class=\"data row6 col3\" >0</td>\n",
       "                        <td id=\"T_fcc4819c_d077_11ea_af57_503eaa8118abrow6_col4\" class=\"data row6 col4\" >110</td>\n",
       "                        <td id=\"T_fcc4819c_d077_11ea_af57_503eaa8118abrow6_col5\" class=\"data row6 col5\" >-</td>\n",
       "                        <td id=\"T_fcc4819c_d077_11ea_af57_503eaa8118abrow6_col6\" class=\"data row6 col6\" >-</td>\n",
       "            </tr>\n",
       "    </tbody></table>"
      ],
      "text/plain": [
       "<pandas.io.formats.style.Styler at 0x7fe6bbdb8820>"
      ]
     },
     "metadata": {},
     "output_type": "display_data"
    },
    {
     "name": "stdout",
     "output_type": "stream",
     "text": [
      "\n",
      "Atendimento da demanda mensal:\n"
     ]
    },
    {
     "data": {
      "text/html": [
       "<style  type=\"text/css\" >\n",
       "</style><table id=\"T_fcc79788_d077_11ea_af57_503eaa8118ab\" ><thead>    <tr>        <th class=\"blank level0\" ></th>        <th class=\"col_heading level0 col0\" >SAO</th>        <th class=\"col_heading level0 col1\" >RIO</th>        <th class=\"col_heading level0 col2\" >BSB</th>        <th class=\"col_heading level0 col3\" >CNF</th>        <th class=\"col_heading level0 col4\" >CWB</th>        <th class=\"col_heading level0 col5\" >REC</th>        <th class=\"col_heading level0 col6\" >POA</th>    </tr></thead><tbody>\n",
       "                <tr>\n",
       "                        <th id=\"T_fcc79788_d077_11ea_af57_503eaa8118ablevel0_row0\" class=\"row_heading level0 row0\" >SCS</th>\n",
       "                        <td id=\"T_fcc79788_d077_11ea_af57_503eaa8118abrow0_col0\" class=\"data row0 col0\" >-</td>\n",
       "                        <td id=\"T_fcc79788_d077_11ea_af57_503eaa8118abrow0_col1\" class=\"data row0 col1\" >95.71%</td>\n",
       "                        <td id=\"T_fcc79788_d077_11ea_af57_503eaa8118abrow0_col2\" class=\"data row0 col2\" >0.00%</td>\n",
       "                        <td id=\"T_fcc79788_d077_11ea_af57_503eaa8118abrow0_col3\" class=\"data row0 col3\" >95.43%</td>\n",
       "                        <td id=\"T_fcc79788_d077_11ea_af57_503eaa8118abrow0_col4\" class=\"data row0 col4\" >83.49%</td>\n",
       "                        <td id=\"T_fcc79788_d077_11ea_af57_503eaa8118abrow0_col5\" class=\"data row0 col5\" >97.40%</td>\n",
       "                        <td id=\"T_fcc79788_d077_11ea_af57_503eaa8118abrow0_col6\" class=\"data row0 col6\" >-</td>\n",
       "            </tr>\n",
       "            <tr>\n",
       "                        <th id=\"T_fcc79788_d077_11ea_af57_503eaa8118ablevel0_row1\" class=\"row_heading level0 row1\" >SJP</th>\n",
       "                        <td id=\"T_fcc79788_d077_11ea_af57_503eaa8118abrow1_col0\" class=\"data row1 col0\" >92.24%</td>\n",
       "                        <td id=\"T_fcc79788_d077_11ea_af57_503eaa8118abrow1_col1\" class=\"data row1 col1\" >99.46%</td>\n",
       "                        <td id=\"T_fcc79788_d077_11ea_af57_503eaa8118abrow1_col2\" class=\"data row1 col2\" >-</td>\n",
       "                        <td id=\"T_fcc79788_d077_11ea_af57_503eaa8118abrow1_col3\" class=\"data row1 col3\" >96.98%</td>\n",
       "                        <td id=\"T_fcc79788_d077_11ea_af57_503eaa8118abrow1_col4\" class=\"data row1 col4\" >-</td>\n",
       "                        <td id=\"T_fcc79788_d077_11ea_af57_503eaa8118abrow1_col5\" class=\"data row1 col5\" >93.46%</td>\n",
       "                        <td id=\"T_fcc79788_d077_11ea_af57_503eaa8118abrow1_col6\" class=\"data row1 col6\" >95.87%</td>\n",
       "            </tr>\n",
       "            <tr>\n",
       "                        <th id=\"T_fcc79788_d077_11ea_af57_503eaa8118ablevel0_row2\" class=\"row_heading level0 row2\" >SBC</th>\n",
       "                        <td id=\"T_fcc79788_d077_11ea_af57_503eaa8118abrow2_col0\" class=\"data row2 col0\" >-</td>\n",
       "                        <td id=\"T_fcc79788_d077_11ea_af57_503eaa8118abrow2_col1\" class=\"data row2 col1\" >95.42%</td>\n",
       "                        <td id=\"T_fcc79788_d077_11ea_af57_503eaa8118abrow2_col2\" class=\"data row2 col2\" >-</td>\n",
       "                        <td id=\"T_fcc79788_d077_11ea_af57_503eaa8118abrow2_col3\" class=\"data row2 col3\" >-</td>\n",
       "                        <td id=\"T_fcc79788_d077_11ea_af57_503eaa8118abrow2_col4\" class=\"data row2 col4\" >80.44%</td>\n",
       "                        <td id=\"T_fcc79788_d077_11ea_af57_503eaa8118abrow2_col5\" class=\"data row2 col5\" >-</td>\n",
       "                        <td id=\"T_fcc79788_d077_11ea_af57_503eaa8118abrow2_col6\" class=\"data row2 col6\" >97.70%</td>\n",
       "            </tr>\n",
       "            <tr>\n",
       "                        <th id=\"T_fcc79788_d077_11ea_af57_503eaa8118ablevel0_row3\" class=\"row_heading level0 row3\" >BET</th>\n",
       "                        <td id=\"T_fcc79788_d077_11ea_af57_503eaa8118abrow3_col0\" class=\"data row3 col0\" >97.50%</td>\n",
       "                        <td id=\"T_fcc79788_d077_11ea_af57_503eaa8118abrow3_col1\" class=\"data row3 col1\" >-</td>\n",
       "                        <td id=\"T_fcc79788_d077_11ea_af57_503eaa8118abrow3_col2\" class=\"data row3 col2\" >95.49%</td>\n",
       "                        <td id=\"T_fcc79788_d077_11ea_af57_503eaa8118abrow3_col3\" class=\"data row3 col3\" >-</td>\n",
       "                        <td id=\"T_fcc79788_d077_11ea_af57_503eaa8118abrow3_col4\" class=\"data row3 col4\" >98.39%</td>\n",
       "                        <td id=\"T_fcc79788_d077_11ea_af57_503eaa8118abrow3_col5\" class=\"data row3 col5\" >0.00%</td>\n",
       "                        <td id=\"T_fcc79788_d077_11ea_af57_503eaa8118abrow3_col6\" class=\"data row3 col6\" >-</td>\n",
       "            </tr>\n",
       "            <tr>\n",
       "                        <th id=\"T_fcc79788_d077_11ea_af57_503eaa8118ablevel0_row4\" class=\"row_heading level0 row4\" >DIA</th>\n",
       "                        <td id=\"T_fcc79788_d077_11ea_af57_503eaa8118abrow4_col0\" class=\"data row4 col0\" >-</td>\n",
       "                        <td id=\"T_fcc79788_d077_11ea_af57_503eaa8118abrow4_col1\" class=\"data row4 col1\" >87.80%</td>\n",
       "                        <td id=\"T_fcc79788_d077_11ea_af57_503eaa8118abrow4_col2\" class=\"data row4 col2\" >0.00%</td>\n",
       "                        <td id=\"T_fcc79788_d077_11ea_af57_503eaa8118abrow4_col3\" class=\"data row4 col3\" >-</td>\n",
       "                        <td id=\"T_fcc79788_d077_11ea_af57_503eaa8118abrow4_col4\" class=\"data row4 col4\" >-</td>\n",
       "                        <td id=\"T_fcc79788_d077_11ea_af57_503eaa8118abrow4_col5\" class=\"data row4 col5\" >-</td>\n",
       "                        <td id=\"T_fcc79788_d077_11ea_af57_503eaa8118abrow4_col6\" class=\"data row4 col6\" >26.60%</td>\n",
       "            </tr>\n",
       "            <tr>\n",
       "                        <th id=\"T_fcc79788_d077_11ea_af57_503eaa8118ablevel0_row5\" class=\"row_heading level0 row5\" >PIR</th>\n",
       "                        <td id=\"T_fcc79788_d077_11ea_af57_503eaa8118abrow5_col0\" class=\"data row5 col0\" >-</td>\n",
       "                        <td id=\"T_fcc79788_d077_11ea_af57_503eaa8118abrow5_col1\" class=\"data row5 col1\" >-</td>\n",
       "                        <td id=\"T_fcc79788_d077_11ea_af57_503eaa8118abrow5_col2\" class=\"data row5 col2\" >-</td>\n",
       "                        <td id=\"T_fcc79788_d077_11ea_af57_503eaa8118abrow5_col3\" class=\"data row5 col3\" >96.74%</td>\n",
       "                        <td id=\"T_fcc79788_d077_11ea_af57_503eaa8118abrow5_col4\" class=\"data row5 col4\" >98.15%</td>\n",
       "                        <td id=\"T_fcc79788_d077_11ea_af57_503eaa8118abrow5_col5\" class=\"data row5 col5\" >70.64%</td>\n",
       "                        <td id=\"T_fcc79788_d077_11ea_af57_503eaa8118abrow5_col6\" class=\"data row5 col6\" >98.72%</td>\n",
       "            </tr>\n",
       "            <tr>\n",
       "                        <th id=\"T_fcc79788_d077_11ea_af57_503eaa8118ablevel0_row6\" class=\"row_heading level0 row6\" >PRL</th>\n",
       "                        <td id=\"T_fcc79788_d077_11ea_af57_503eaa8118abrow6_col0\" class=\"data row6 col0\" >99.41%</td>\n",
       "                        <td id=\"T_fcc79788_d077_11ea_af57_503eaa8118abrow6_col1\" class=\"data row6 col1\" >-</td>\n",
       "                        <td id=\"T_fcc79788_d077_11ea_af57_503eaa8118abrow6_col2\" class=\"data row6 col2\" >-</td>\n",
       "                        <td id=\"T_fcc79788_d077_11ea_af57_503eaa8118abrow6_col3\" class=\"data row6 col3\" >0.00%</td>\n",
       "                        <td id=\"T_fcc79788_d077_11ea_af57_503eaa8118abrow6_col4\" class=\"data row6 col4\" >99.10%</td>\n",
       "                        <td id=\"T_fcc79788_d077_11ea_af57_503eaa8118abrow6_col5\" class=\"data row6 col5\" >-</td>\n",
       "                        <td id=\"T_fcc79788_d077_11ea_af57_503eaa8118abrow6_col6\" class=\"data row6 col6\" >-</td>\n",
       "            </tr>\n",
       "    </tbody></table>"
      ],
      "text/plain": [
       "<pandas.io.formats.style.Styler at 0x7fe6abfd6c40>"
      ]
     },
     "metadata": {},
     "output_type": "display_data"
    }
   ],
   "source": [
    "df = df_rep(best.candidate, mask, idx)\n",
    "total = df * max_t\n",
    "total = total.where(total < max_d, max_d)\n",
    "print(f\"Cobertura da demanda total: \\t\\t{total.sum().sum() * 100 / (demand / 11).sum().sum():.2f}%\")\n",
    "print(f\"Lucro total: \\t\\t\\t\\t{int((total * profit).sum().sum()):,}\")\n",
    "print(f\"Quantidade de caminhões utilizados: \\t{df.sum().sum().astype(int)}\")\n",
    "print(f\"Fitness do candidato final: \\t\\t{best.fitness:.5f}\")\n",
    "print(f\"Penalidade aplicada ao candidato final: {penalty(df, demand, total):.5f}\")\n",
    "print(\"\\nDisposição dos caminhões:\\n\")\n",
    "display(df.style.format(\"{:.0f}\", na_rep=\"-\"))\n",
    "print(\"\\nVeículos transportados por mês:\")\n",
    "display((total * 11).style.format(\"{:.0f}\", na_rep=\"-\"))\n",
    "print(\"\\nAtendimento da demanda mensal:\")\n",
    "display((total / (demand / 11)).style.format(\"{:.2%}\", na_rep=\"-\"))"
   ]
  }
 ],
 "metadata": {
  "kernelspec": {
   "display_name": "Python 3",
   "language": "python",
   "name": "python3"
  },
  "language_info": {
   "codemirror_mode": {
    "name": "ipython",
    "version": 3
   },
   "file_extension": ".py",
   "mimetype": "text/x-python",
   "name": "python",
   "nbconvert_exporter": "python",
   "pygments_lexer": "ipython3",
   "version": "3.8.3"
  }
 },
 "nbformat": 4,
 "nbformat_minor": 4
}
