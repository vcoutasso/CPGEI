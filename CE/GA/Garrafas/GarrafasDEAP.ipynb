{
 "cells": [
  {
   "cell_type": "markdown",
   "metadata": {},
   "source": [
    "# Problema das Garrafas\n",
    "\n",
    "O Problema de Otimização da Fabricação de Garrafas Plásticas é um simples \"problema brinquedo\" utilizado para introduzir, na prática, a aplicação de Algoritmos Genéticos em problemas de otimização.\n",
    "\n",
    "Para mais detalhes, a apresentação do problema se encontra [aqui](http://silverio.net.br/heitor/disciplinas/ce/arquivos/garrafas2020.pdf). A solução é apresentada neste [documento](http://silverio.net.br/heitor/disciplinas/ce/arquivos/garrafas2020-solucao.pdf)."
   ]
  },
  {
   "cell_type": "code",
   "execution_count": 1,
   "metadata": {},
   "outputs": [],
   "source": [
    "import numpy as np\n",
    "from deap import base, creator, tools\n",
    "\n",
    "# Python complains about overwriting the Individual class. Since that is intended I have decided to hide the warning\n",
    "import warnings\n",
    "warnings.filterwarnings('ignore')\n",
    "\n",
    "# Set seed for reproducibility\n",
    "np.random.seed(42)"
   ]
  },
  {
   "cell_type": "markdown",
   "metadata": {},
   "source": [
    "Declaração da função de avaliação, responsável por calcular o fitness de um indivíduo. As funções de penalização, como apresentadas na solução do problema, são declaradas logo em seguida."
   ]
  },
  {
   "cell_type": "code",
   "execution_count": 2,
   "metadata": {},
   "outputs": [],
   "source": [
    "# Calculates fitness for a given individual\n",
    "def evaluate(ind):\n",
    "    obj = (5 * ind[0]) + (4.5 * ind[1])\n",
    "    obj = obj / 6650\n",
    "    pen = h1(ind) + h2(ind) + h3(ind) + h4(ind)\n",
    "    pen = pen / 2\n",
    "    return (obj - pen),\n",
    "\n",
    "# Declaration of penalization functions as per the solution provided\n",
    "\n",
    "def h1(ind):\n",
    "    return max(0, (6 * ind[0] + 5 * ind[1])/100 - 60) / 60\n",
    "\n",
    "def h2(ind):\n",
    "    return max(0, (10 * ind[0]) + (20 * ind[1]) - 14000) / 14000\n",
    "\n",
    "def h3(ind):\n",
    "    return max(0, (ind[0] - 700)) / 700\n",
    "\n",
    "def h4(ind):\n",
    "    return max(0, (ind[1] - 700)) / 700"
   ]
  },
  {
   "cell_type": "markdown",
   "metadata": {},
   "source": [
    "Definição de parâmetros:"
   ]
  },
  {
   "cell_type": "code",
   "execution_count": 3,
   "metadata": {},
   "outputs": [],
   "source": [
    "pop_size = 300\n",
    "generations = 1000\n",
    "# Qty of variables/genes\n",
    "ind_size = 2\n",
    "# Mutation probability\n",
    "mutpb = 0.2\n",
    "# Crossover probability\n",
    "cxpb = 0.5"
   ]
  },
  {
   "cell_type": "markdown",
   "metadata": {},
   "source": [
    "Criação dos tipos que serão utilizados. Aqui define-se o \"esqueleto\" da função de Fitness e dos indivíduos."
   ]
  },
  {
   "cell_type": "code",
   "execution_count": 4,
   "metadata": {},
   "outputs": [],
   "source": [
    "# Create types\n",
    "creator.create(\"FitnessMax\", base.Fitness, weights=(1.0,))\n",
    "creator.create(\"Individual\", list, fitness=creator.FitnessMax)"
   ]
  },
  {
   "cell_type": "markdown",
   "metadata": {},
   "source": [
    "`toolbox` contém todos os objetos que serão utilizados (indivíduo, população, funções, operadores e argumentos) e, portanto, devem ser declarados aqui."
   ]
  },
  {
   "cell_type": "code",
   "execution_count": 5,
   "metadata": {},
   "outputs": [],
   "source": [
    "toolbox = base.Toolbox()\n",
    "# Random attibute generator. Used for random initialization of individuals. Ranges from 0 to 1024\n",
    "toolbox.register(\"attribute\", np.random.randint, 1025)\n",
    "# Definition of the individual. n defines the number of genes\n",
    "toolbox.register(\"individual\", tools.initRepeat, creator.Individual, toolbox.attribute, n=ind_size)\n",
    "# Definition of the population\n",
    "toolbox.register(\"population\", tools.initRepeat, list, toolbox.individual)\n",
    "\n",
    "# Genetic operators\n",
    "toolbox.register(\"evaluate\", evaluate)\n",
    "# Two-point crossover\n",
    "toolbox.register(\"mate\", tools.cxOnePoint)\n",
    "# Mutation by flipping bits\n",
    "toolbox.register(\"mutate\", tools.mutUniformInt, low=0, up=700, indpb=0.05)\n",
    "# Tournament selection\n",
    "toolbox.register(\"select\", tools.selTournament, tournsize=3)"
   ]
  },
  {
   "cell_type": "markdown",
   "metadata": {},
   "source": [
    "Função principal onde acontece o processo de evolução. O critério de parada é o número da geração atual é quando `g` é igual à `generations`"
   ]
  },
  {
   "cell_type": "code",
   "execution_count": 6,
   "metadata": {},
   "outputs": [],
   "source": [
    "def main():\n",
    "    pop = toolbox.population(n=pop_size)\n",
    "    \n",
    "    # Evaluate population\n",
    "    fitnesses = list(map(toolbox.evaluate, pop))\n",
    "    for ind, fit in zip(pop, fitnesses):\n",
    "        ind.fitness.values = fit\n",
    "    \n",
    "    # Keeps track of the number of generations\n",
    "    g = 0\n",
    "    \n",
    "    fits = [ind.fitness.values[0] for ind in pop]\n",
    "    \n",
    "    # Begin the evolution    \n",
    "    while g < generations:\n",
    "        g = g + 1\n",
    "        \n",
    "        # Select the next generation individuals\n",
    "        offspring = toolbox.select(pop, len(pop))\n",
    "        # Clone the selected individuals\n",
    "        offspring = list(map(toolbox.clone, offspring))\n",
    "        \n",
    "        # Apply crossover and mutation on the offspring\n",
    "        for child1, child2 in zip(offspring[::2], offspring[1::2]):\n",
    "            if np.random.rand() < cxpb:\n",
    "                toolbox.mate(child1, child2)\n",
    "                del child1.fitness.values\n",
    "                del child2.fitness.values\n",
    "\n",
    "        for mutant in offspring:\n",
    "            if np.random.rand() < mutpb:\n",
    "                toolbox.mutate(mutant)\n",
    "                del mutant.fitness.values\n",
    "                \n",
    "        # Evaluate the individuals with an invalid fitness\n",
    "        invalid_ind = [ind for ind in offspring if not ind.fitness.valid]\n",
    "        fitnesses = map(toolbox.evaluate, invalid_ind)\n",
    "        for ind, fit in zip(invalid_ind, fitnesses):\n",
    "            ind.fitness.values = fit\n",
    "\n",
    "        pop[:] = offspring\n",
    "\n",
    "        # Gather all the fitnesses in one list and print the stats\n",
    "        fits = [ind.fitness.values[0] for ind in pop]\n",
    "        \n",
    "        length = len(pop)\n",
    "        mean = sum(fits) / length\n",
    "        sum2 = sum(x*x for x in fits)\n",
    "        std = abs(sum2 / length - mean**2)**0.5\n",
    "        \n",
    "        if g % 100 == 0 or g == 1:\n",
    "            print(f\"-- Generation {g} --\")\n",
    "            print(\"  Min %s\" % min(fits))\n",
    "            print(\"  Max %s\" % max(fits))\n",
    "            print(\"  Avg %s\" % mean)\n",
    "            print(\"  Std %s\" % std)\n",
    "        \n",
    "    print(\"-- End of evolution process --\")\n",
    "    \n",
    "    best_ind = tools.selBest(pop, 1)[0]\n",
    "\n",
    "    print()\n",
    "    print(f\"Qtd de garrafas de leite: {best_ind[0]}\")\n",
    "    print(f\"Qtd de garrafas de suco: {best_ind[1]}\")\n",
    "    print(f\"Ocupação da extrusora: {(6 * best_ind[0]/100) + (5 * best_ind[1]/100)}h\")\n",
    "    print(f\"Ocupação do depósito: {10 * best_ind[0] + 20 * best_ind[1]}\")\n",
    "    print(f\"Lucro: {5 * best_ind[0] + 4.5 * best_ind[1]}\")"
   ]
  },
  {
   "cell_type": "code",
   "execution_count": 7,
   "metadata": {},
   "outputs": [
    {
     "name": "stdout",
     "output_type": "stream",
     "text": [
      "-- Generation 1 --\n",
      "  Min 0.11323308270676692\n",
      "  Max 0.7571992481203007\n",
      "  Avg 0.595999956140351\n",
      "  Std 0.10686896171550742\n",
      "-- Generation 100 --\n",
      "  Min 0.5451127819548872\n",
      "  Max 0.7625187969924813\n",
      "  Avg 0.7608665413533833\n",
      "  Std 0.01780756582518037\n",
      "-- Generation 200 --\n",
      "  Min 0.26917293233082706\n",
      "  Max 0.7625187969924813\n",
      "  Avg 0.757311931913116\n",
      "  Std 0.04084312798197915\n",
      "-- Generation 300 --\n",
      "  Min 0.2586466165413534\n",
      "  Max 0.7625187969924813\n",
      "  Avg 0.7570104803675854\n",
      "  Std 0.04347656708874782\n",
      "-- Generation 400 --\n",
      "  Min 0.281203007518797\n",
      "  Max 0.7631578947368421\n",
      "  Avg 0.7532721908939027\n",
      "  Std 0.05175699256817248\n",
      "-- Generation 500 --\n",
      "  Min 0.24511278195488723\n",
      "  Max 0.7631578947368421\n",
      "  Avg 0.7592277360066849\n",
      "  Std 0.038636882909161646\n",
      "-- Generation 600 --\n",
      "  Min 0.27225563909774436\n",
      "  Max 0.7631578947368421\n",
      "  Avg 0.7600206662489571\n",
      "  Std 0.031750507576047866\n",
      "-- Generation 700 --\n",
      "  Min 0.44360902255639095\n",
      "  Max 0.7631578947368421\n",
      "  Avg 0.761080816624897\n",
      "  Std 0.022940182402279633\n",
      "-- Generation 800 --\n",
      "  Min 0.7182644110275689\n",
      "  Max 0.7631578947368421\n",
      "  Avg 0.7628340643274869\n",
      "  Std 0.003645566279414304\n",
      "-- Generation 900 --\n",
      "  Min 0.5906015037593985\n",
      "  Max 0.7631578947368421\n",
      "  Avg 0.7624631578947384\n",
      "  Std 0.01015171319497714\n",
      "-- Generation 1000 --\n",
      "  Min 0.3300751879699248\n",
      "  Max 0.7631578947368421\n",
      "  Avg 0.7602542606516304\n",
      "  Std 0.030427395854258053\n",
      "-- End of evolution process --\n",
      "\n",
      "Qtd de garrafas de leite: 700\n",
      "Qtd de garrafas de suco: 350\n",
      "Ocupação da extrusora: 59.5h\n",
      "Ocupação do depósito: 14000\n",
      "Lucro: 5075.0\n"
     ]
    }
   ],
   "source": [
    "if __name__ == \"__main__\":\n",
    "    main()"
   ]
  }
 ],
 "metadata": {
  "kernelspec": {
   "display_name": "Python 3",
   "language": "python",
   "name": "python3"
  },
  "language_info": {
   "codemirror_mode": {
    "name": "ipython",
    "version": 3
   },
   "file_extension": ".py",
   "mimetype": "text/x-python",
   "name": "python",
   "nbconvert_exporter": "python",
   "pygments_lexer": "ipython3",
   "version": "3.8.3"
  }
 },
 "nbformat": 4,
 "nbformat_minor": 4
}
