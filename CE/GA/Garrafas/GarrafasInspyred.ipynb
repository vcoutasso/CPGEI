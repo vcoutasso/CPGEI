{
 "cells": [
  {
   "cell_type": "markdown",
   "metadata": {},
   "source": [
    "# Problema das Garrafas\n",
    "\n",
    "O Problema de Otimização da Fabricação de Garrafas Plásticas é um simples \"problema brinquedo\" que será utilizado para introduzir, na prática, a aplicação de Algoritmos Genéticos em problemas de otimização.\n",
    "\n",
    "Para mais detalhes, a apresentação do problema se encontra [aqui](garrafas2020.pdf). A solução é apresentada neste [documento](garrafas2020-solucao.pdf)."
   ]
  },
  {
   "cell_type": "code",
   "execution_count": 1,
   "metadata": {},
   "outputs": [],
   "source": [
    "import numpy as np\n",
    "import random\n",
    "\n",
    "import inspyred\n",
    "from inspyred import ec\n",
    "from inspyred.ec import terminators, selectors, observers"
   ]
  },
  {
   "cell_type": "markdown",
   "metadata": {},
   "source": [
    "A representação do cromossomo escolhida foi binária, e a inicialização da população ocorre de maneira aleatória."
   ]
  },
  {
   "cell_type": "code",
   "execution_count": 2,
   "metadata": {},
   "outputs": [],
   "source": [
    "# Generates random individuals\n",
    "def generate_binary(random, args):\n",
    "    num_genes = args.get('num_genes')\n",
    "    bits = args.get('num_bits')\n",
    "    \n",
    "    return np.array([np.random.choice([0, 1]) for i in range(num_genes * bits)])"
   ]
  },
  {
   "cell_type": "markdown",
   "metadata": {},
   "source": [
    "Aqui temos a função de avaliação da população, onde a função de fitness (lucro) é calculada e as penalidades, conforme as restrições do problema, são devidamente aplicadas."
   ]
  },
  {
   "cell_type": "code",
   "execution_count": 3,
   "metadata": {},
   "outputs": [],
   "source": [
    "# Evaluates the entire population\n",
    "def evaluate_binary(candidates, args):\n",
    "    num_genes = args.get('num_genes')\n",
    "    bits = args.get('num_bits')\n",
    "    fitness = []\n",
    "    \n",
    "    # Calculate fitness for every individual and append it to the list\n",
    "    for curr in candidates:\n",
    "        # Get integer representation of genes for easier calculations\n",
    "        genes_int = integer_rep(curr, num_genes)\n",
    "        \n",
    "        # Calculate fitness function\n",
    "        fit = (5 * genes_int[0]) + (4.5 * genes_int[1])\n",
    "        fit = fit / 6650\n",
    "        \n",
    "        # Apply penalties and append result to list\n",
    "        fitness.append(fit - penalty(genes_int))\n",
    "    \n",
    "    return fitness"
   ]
  },
  {
   "cell_type": "markdown",
   "metadata": {},
   "source": [
    "Penalidades citadas anteriormente. Essas penalidades dizem respeito à:\n",
    " - Tempo de ocupação da extrusora (máximo de 60h semanais)\n",
    " - Ocupação do depósito (máximo de 14000 unidades de volume)\n",
    " - Demanda de garrafas de leite e suco (máximo de 700 garrafas de cada tipo por semana)"
   ]
  },
  {
   "cell_type": "code",
   "execution_count": 4,
   "metadata": {},
   "outputs": [],
   "source": [
    "# Calculates fitness penalties\n",
    "def penalty(genes_int):\n",
    "    h1 = max(0, (6 * genes_int[0] + 5 * genes_int[1])/100 - 60) / 60\n",
    "    h2 = max(0, (10 * genes_int[0]) + (20 * genes_int[1]) - 14000) / 14000\n",
    "    h3 = max(0, (genes_int[0] - 700)) / 700\n",
    "    h4 = max(0, (genes_int[1] - 700)) / 700\n",
    "    \n",
    "    return (h1 + h2 + h3 + h4) / 2"
   ]
  },
  {
   "cell_type": "markdown",
   "metadata": {},
   "source": [
    "Função responsável por decodificar a representação binária dos genes, convertendo cada atributo para um valor numérico que pode ser mais facilmente manipulado."
   ]
  },
  {
   "cell_type": "code",
   "execution_count": 5,
   "metadata": {},
   "outputs": [],
   "source": [
    "# Returns integer representation of a given individual's genes\n",
    "def integer_rep(genes, num_genes=2):\n",
    "    genes = np.array_split(genes, num_genes)\n",
    "    genes_int = []\n",
    "    for g in genes:\n",
    "        genes_int.append(int(\"\".join([str(bit) for bit in g]), 2))\n",
    "        \n",
    "    return genes_int"
   ]
  },
  {
   "cell_type": "markdown",
   "metadata": {},
   "source": [
    "Aqui definimos o Algoritmo Genético propriamente dito, escolhendo seus parâmetros, bem como dos individuos da população."
   ]
  },
  {
   "cell_type": "code",
   "execution_count": 6,
   "metadata": {},
   "outputs": [],
   "source": [
    "# Genetic Algorithm declaration and process of evolution\n",
    "def main():\n",
    "    rand = random.Random()\n",
    "\n",
    "    ga = inspyred.ec.GA(rand)\n",
    "    ga.observer = observers.plot_observer\n",
    "    ga.terminator = terminators.generation_termination\n",
    "    ga.selector = selectors.tournament_selection\n",
    "\n",
    "    final_pop = ga.evolve(generator=generate_binary,\n",
    "                          evaluator=evaluate_binary,\n",
    "                          tournament_size=3,\n",
    "                          max_generations=25,\n",
    "                          crossover_rate=0.5,\n",
    "                          mutation_rate=0.01,\n",
    "                          pop_size=300,\n",
    "                          num_genes=2,\n",
    "                          num_bits=10)\n",
    "\n",
    "    return max(final_pop)"
   ]
  },
  {
   "cell_type": "markdown",
   "metadata": {},
   "source": [
    "Dá-se início ao processo de evolução, imprimindo o gráfico de fitness por avaliações ao final da execução. O número da geração se dá por:\n",
    "\n",
    "$$ \\frac{\\text{nº de avaliações}}{\\text{tamanho da população}} $$\n",
    "\n",
    "Cada vez que main() for chamado, um resultado diferente poderá ser gerado. O ótimo global (conhecido para este problema) é 700 garrafas de leite e 350 de suco."
   ]
  },
  {
   "cell_type": "code",
   "execution_count": 7,
   "metadata": {},
   "outputs": [
    {
     "data": {
      "image/png": "[encoded data removed]",
      "text/plain": [
       "<Figure size 432x288 with 1 Axes>"
      ]
     },
     "metadata": {
      "needs_background": "light"
     },
     "output_type": "display_data"
    }
   ],
   "source": [
    "if __name__ == '__main__':\n",
    "    best = main()\n",
    "    best_ind = integer_rep(best.candidate)"
   ]
  },
  {
   "cell_type": "markdown",
   "metadata": {},
   "source": [
    "Percebe-se que, devido à simplicidade do problema, o melhor indíviduo já apareceu no início da evolução. Interpretação dos resultados do melhor indivíduo:"
   ]
  },
  {
   "cell_type": "code",
   "execution_count": 8,
   "metadata": {},
   "outputs": [
    {
     "name": "stdout",
     "output_type": "stream",
     "text": [
      "Qtd de garrafas de leite: 700\n",
      "Qtd de garrafas de suco: 350\n",
      "Ocupação da extrusora: 59.5h\n",
      "Ocupação do depósito: 14000\n",
      "Lucro: 5075.0\n"
     ]
    }
   ],
   "source": [
    "    print(f\"Qtd de garrafas de leite: {best_ind[0]}\")\n",
    "    print(f\"Qtd de garrafas de suco: {best_ind[1]}\")\n",
    "    print(f\"Ocupação da extrusora: {(6 * best_ind[0]/100) + (5 * best_ind[1]/100)}h\")\n",
    "    print(f\"Ocupação do depósito: {10 * best_ind[0] + 20 * best_ind[1]}\")\n",
    "    print(f\"Lucro: {5 * best_ind[0] + 4.5 * best_ind[1]}\")"
   ]
  }
 ],
 "metadata": {
  "kernelspec": {
   "display_name": "Python 3",
   "language": "python",
   "name": "python3"
  },
  "language_info": {
   "codemirror_mode": {
    "name": "ipython",
    "version": 3
   },
   "file_extension": ".py",
   "mimetype": "text/x-python",
   "name": "python",
   "nbconvert_exporter": "python",
   "pygments_lexer": "ipython3",
   "version": "3.8.3"
  }
 },
 "nbformat": 4,
 "nbformat_minor": 4
}
