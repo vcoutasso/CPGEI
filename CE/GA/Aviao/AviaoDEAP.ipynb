{
 "cells": [
  {
   "cell_type": "markdown",
   "metadata": {},
   "source": [
    "# Problema do Avião\n",
    "\n",
    "O Problema de Otimização do Carregamento de um Avião de Carga, similarmente ao Problema da Garrafa, é um \"problema brinquedo\" de otimização utilizado como exemplo prático de aplicação de Algoritmos Genéticos.\n",
    "\n",
    "O problema é apresentado com detalhes [aqui](http://silverio.net.br/heitor/disciplinas/ce/arquivos/aviao2020.pdf)."
   ]
  },
  {
   "cell_type": "code",
   "execution_count": 1,
   "metadata": {},
   "outputs": [],
   "source": [
    "import numpy as np\n",
    "import pandas as pd\n",
    "\n",
    "import matplotlib.pyplot as plt\n",
    "import seaborn as sns\n",
    "sns.set()\n",
    "\n",
    "from deap import base, creator, tools\n",
    "from deap import algorithms\n",
    "\n",
    "# Python complains about overwriting the Individual class. Since that is intended I have decided to hide the warning\n",
    "import warnings\n",
    "warnings.filterwarnings('ignore')\n",
    "\n",
    "# Set seed for reproducibility\n",
    "np.random.seed(42)"
   ]
  },
  {
   "cell_type": "code",
   "execution_count": 2,
   "metadata": {},
   "outputs": [],
   "source": [
    "pop_size = 500\n",
    "ngen = 10000\n",
    "ind_size = 12\n",
    "cxpb = 0.5\n",
    "mutpb = 0.2"
   ]
  },
  {
   "cell_type": "code",
   "execution_count": 3,
   "metadata": {},
   "outputs": [],
   "source": [
    "def evaluate(ind):\n",
    "    obj = sum(ind[0::4]) * 0.82 + sum(ind[1::4]) * 1.15 + sum(ind[2::4]) * 0.92 + sum(ind[3::4]) * 0.75\n",
    "    obj = obj / (250000 * 1.15)\n",
    "    \n",
    "    pen = cap_d(ind) + cap_c(ind) + cap_t(ind) + vol_d(ind) + vol_c(ind) + vol_t(ind) + carga_1(ind) + carga_2(ind) + carga_3(ind) + carga_4(ind)\n",
    "    pen = pen / 3\n",
    "\n",
    "    fitness = obj - pen\n",
    "    return fitness,"
   ]
  },
  {
   "cell_type": "code",
   "execution_count": 4,
   "metadata": {},
   "outputs": [],
   "source": [
    "def cap_d(ind):\n",
    "    return max(0, sum(ind[:4]) - 77500) / 77500\n",
    "\n",
    "def vol_d(ind):\n",
    "    return max(0, (7.75 * ind[0] + 10.60 * ind[1] + 8.36 * ind[2] + 6.30 * ind[3]) / 1000 - 450) / 450\n",
    "\n",
    "def cap_c(ind):\n",
    "    return max(0, sum(ind[4:8]) - 115000) / 115000\n",
    "   \n",
    "def vol_c(ind):\n",
    "    return max(0, (7.75 * ind[4] + 10.60 * ind[5] + 8.36 * ind[6] + 6.30 * ind[7]) / 1000 - 545) / 545\n",
    "\n",
    "def cap_t(ind):\n",
    "    return max(0, sum(ind[8:]) - 57500) / 57500\n",
    "\n",
    "def vol_t(ind):\n",
    "    return max(0, (7.75 * ind[8] + 10.60 * ind[9] + 8.36 * ind[10] + 6.30 * ind[11]) / 1000 - 305) / 305\n",
    "\n",
    "def carga_1(ind):\n",
    "    return max(0, sum(ind[0::4]) - 66000) / 66000\n",
    "\n",
    "def carga_2(ind):\n",
    "    return max(0, sum(ind[1::4]) - 55000) / 55000\n",
    "\n",
    "def carga_3(ind):\n",
    "    return max(0, sum(ind[2::4]) - 85000) / 85000\n",
    "\n",
    "def carga_4(ind):\n",
    "    return max(0, sum(ind[3::4]) - 40000) / 40000"
   ]
  },
  {
   "cell_type": "code",
   "execution_count": 5,
   "metadata": {},
   "outputs": [],
   "source": [
    "# Create types\n",
    "creator.create(\"FitnessMax\", base.Fitness, weights=(1.0,))\n",
    "creator.create(\"Individual\", list, fitness=creator.FitnessMax)"
   ]
  },
  {
   "cell_type": "code",
   "execution_count": 6,
   "metadata": {},
   "outputs": [],
   "source": [
    "toolbox = base.Toolbox()\n",
    "# Random attibute generator. Used for random initialization of individuals. Ranges from 0 to 85000\n",
    "toolbox.register(\"attribute\", np.random.randint, 85001)\n",
    "# Definition of the individual. n defines the number of genes\n",
    "toolbox.register(\"individual\", tools.initRepeat, creator.Individual, toolbox.attribute, n=ind_size)\n",
    "# Definition of the population\n",
    "toolbox.register(\"population\", tools.initRepeat, list, toolbox.individual)\n",
    "\n",
    "toolbox.register(\"evaluate\", evaluate)\n",
    "toolbox.register(\"mate\", tools.cxTwoPoint)\n",
    "toolbox.register(\"mutate\", tools.mutUniformInt, low=0, up=85000, indpb=0.05)\n",
    "toolbox.register(\"select\", tools.selTournament, tournsize=3)\n",
    "\n",
    "df = None"
   ]
  },
  {
   "cell_type": "code",
   "execution_count": 2,
   "metadata": {},
   "outputs": [],
   "source": [
    "def main():\n",
    "    pop = toolbox.population(n=300)\n",
    "    hof = tools.HallOfFame(1)\n",
    "    stats = tools.Statistics(lambda ind: ind.fitness.values)\n",
    "    stats.register(\"avg\", np.mean)\n",
    "    stats.register(\"std\", np.std)\n",
    "    stats.register(\"min\", np.min)\n",
    "    stats.register(\"max\", np.max)\n",
    "    \n",
    "    pop, log = algorithms.eaSimple(pop, toolbox, cxpb, mutpb, ngen, \n",
    "                                   stats=stats, halloffame=hof, verbose=False)\n",
    "    \n",
    "    comp_d = hof[0][:4]\n",
    "    comp_c = hof[0][4:8]\n",
    "    comp_t = hof[0][8:]\n",
    "    comp_d.append(sum(comp_d))\n",
    "    comp_c.append(sum(comp_c))\n",
    "    comp_t.append(sum(comp_t))\n",
    "    c1 = hof[0][0::4]\n",
    "    c2 = hof[0][1::4]\n",
    "    c3 = hof[0][2::4]\n",
    "    c4 = hof[0][3::4]\n",
    "    \n",
    "    total = [sum(c1), sum(c2), sum(c3), sum(c4)]\n",
    "    total.append(sum(total))\n",
    "    \n",
    "    df = pd.DataFrame({'Comp. Dianteiro': comp_d, 'Comp. Central': comp_c, 'Comp. Traseiro': comp_t, 'Total': total},\n",
    "                      index=['Carga 1', 'Carga 2', 'Carga 3', 'Carga 4', 'Total'])\n",
    "    \n",
    "    display(df)\n",
    "    \n",
    "    print(\"\\nCapacidade volumétrica utilizada:\\n\")\n",
    "    print(f\"Compartimento Dianteiro: {(7.75 * hof[0][0] + 10.60 * hof[0][1] + 8.36 * hof[0][2] + 6.30 * hof[0][3]) / 1000:.2f}\")\n",
    "    print(f\"Compartimento Central: {(7.75 * hof[0][4] + 10.60 * hof[0][5] + 8.36 * hof[0][6] + 6.30 * hof[0][7]) / 1000:.2f}\")\n",
    "    print(f\"Compartimento Traseiro: {(7.75 * hof[0][8] + 10.60 * hof[0][9] + 8.36 * hof[0][10] + 6.30 * hof[0][11]) / 1000:.2f}\")\n",
    "    \n",
    "    print(f\"\\nLucro total: {0.82 * sum(c1) + 1.15 * sum(c2) + 0.92 * sum(c3) + 0.75 * sum(c4):.2f}\")"
   ]
  },
  {
   "cell_type": "code",
   "execution_count": 8,
   "metadata": {},
   "outputs": [
    {
     "data": {
      "text/html": [
       "<div>\n",
       "<style scoped>\n",
       "    .dataframe tbody tr th:only-of-type {\n",
       "        vertical-align: middle;\n",
       "    }\n",
       "\n",
       "    .dataframe tbody tr th {\n",
       "        vertical-align: top;\n",
       "    }\n",
       "\n",
       "    .dataframe thead th {\n",
       "        text-align: right;\n",
       "    }\n",
       "</style>\n",
       "<table border=\"1\" class=\"dataframe\">\n",
       "  <thead>\n",
       "    <tr style=\"text-align: right;\">\n",
       "      <th></th>\n",
       "      <th>Comp. Dianteiro</th>\n",
       "      <th>Comp. Central</th>\n",
       "      <th>Comp. Traseiro</th>\n",
       "      <th>Total</th>\n",
       "    </tr>\n",
       "  </thead>\n",
       "  <tbody>\n",
       "    <tr>\n",
       "      <th>Carga 1</th>\n",
       "      <td>2476</td>\n",
       "      <td>4997</td>\n",
       "      <td>2842</td>\n",
       "      <td>10315</td>\n",
       "    </tr>\n",
       "    <tr>\n",
       "      <th>Carga 2</th>\n",
       "      <td>1151</td>\n",
       "      <td>5655</td>\n",
       "      <td>19756</td>\n",
       "      <td>26562</td>\n",
       "    </tr>\n",
       "    <tr>\n",
       "      <th>Carga 3</th>\n",
       "      <td>33684</td>\n",
       "      <td>49162</td>\n",
       "      <td>1523</td>\n",
       "      <td>84369</td>\n",
       "    </tr>\n",
       "    <tr>\n",
       "      <th>Carga 4</th>\n",
       "      <td>21750</td>\n",
       "      <td>5611</td>\n",
       "      <td>9655</td>\n",
       "      <td>37016</td>\n",
       "    </tr>\n",
       "    <tr>\n",
       "      <th>Total</th>\n",
       "      <td>59061</td>\n",
       "      <td>65425</td>\n",
       "      <td>33776</td>\n",
       "      <td>158262</td>\n",
       "    </tr>\n",
       "  </tbody>\n",
       "</table>\n",
       "</div>"
      ],
      "text/plain": [
       "         Comp. Dianteiro  Comp. Central  Comp. Traseiro   Total\n",
       "Carga 1             2476           4997            2842   10315\n",
       "Carga 2             1151           5655           19756   26562\n",
       "Carga 3            33684          49162            1523   84369\n",
       "Carga 4            21750           5611            9655   37016\n",
       "Total              59061          65425           33776  158262"
      ]
     },
     "metadata": {},
     "output_type": "display_data"
    },
    {
     "name": "stdout",
     "output_type": "stream",
     "text": [
      "\n",
      "Capacidade volumétrica utilizada:\n",
      "\n",
      "Compartimento Dianteiro: 450.01\n",
      "Compartimento Central: 545.01\n",
      "Compartimento Traseiro: 305.00\n",
      "\n",
      "Lucro total: 144386.08\n"
     ]
    }
   ],
   "source": [
    "if __name__ == \"__main__\":\n",
    "    main()"
   ]
  }
 ],
 "metadata": {
  "kernelspec": {
   "display_name": "Python 3",
   "language": "python",
   "name": "python3"
  },
  "language_info": {
   "codemirror_mode": {
    "name": "ipython",
    "version": 3
   },
   "file_extension": ".py",
   "mimetype": "text/x-python",
   "name": "python",
   "nbconvert_exporter": "python",
   "pygments_lexer": "ipython3",
   "version": "3.8.3"
  }
 },
 "nbformat": 4,
 "nbformat_minor": 4
}
