{
 "cells": [
  {
   "cell_type": "markdown",
   "metadata": {},
   "source": [
    "# Previsão de Séries Temporais\n",
    "\n",
    "Esse exercício objetiva a utilização de Programação Genética para construir um modelo para a previsão de séries temporais. A série temporal em questão refere-se ao ativo PETR4 no período entre 16/05/2018 e 17/04/2019.\n",
    "\n",
    "O problema é apresentado em mais detalhes [aqui](series-2020.pdf)."
   ]
  },
  {
   "cell_type": "markdown",
   "metadata": {},
   "source": [
    "## Abordagem \n",
    "\n",
    "Apesar da proposta inicial do problema sugerir a utilização de Programação Genética, optou-se por fazer uso de Programação de Expressão Genética para abordar o exercício.\n",
    "\n",
    "As funções utilizadas foram:\n",
    "\n",
    "- Módulo\n",
    "- Inverso\n",
    "- Multiplicação\n",
    "- Soma\n",
    "- Subtração\n",
    "- Divisão protegida (determinou-se que a divisão por 0 resulta em 0)\n",
    "\n",
    "O conjunto de terminais usados é composto por todos os indicadores de um determinado instante de tempo (SMA, WMA, MACD, RSI e MOM), e dos indicadores do instante de tempo anterior (no caso da primeira instância, usou-se os mesmos indicadores duas vezes).\n",
    "\n",
    "O cromossomo é composto por um único gene cuja cabeça (_tail_) tem tamanho 20."
   ]
  },
  {
   "cell_type": "code",
   "execution_count": 1,
   "metadata": {},
   "outputs": [],
   "source": [
    "import pandas as pd\n",
    "import matplotlib.pyplot as plt\n",
    "import seaborn as sns\n",
    "sns.set()\n",
    "import numpy as np\n",
    "import geppy as gep\n",
    "from deap import creator, base, tools\n",
    "from sklearn.metrics import confusion_matrix\n",
    "import operator\n",
    "import random\n",
    "import multiprocessing\n",
    "#random.seed(42)\n",
    "#np.random.seed(42)"
   ]
  },
  {
   "cell_type": "markdown",
   "metadata": {},
   "source": [
    "Define função de divisão protegida."
   ]
  },
  {
   "cell_type": "code",
   "execution_count": 2,
   "metadata": {},
   "outputs": [],
   "source": [
    "def protected_div(x1, x2):\n",
    "    if abs(x2) < 1e-6:\n",
    "        return 0\n",
    "    return x1/x2"
   ]
  },
  {
   "cell_type": "markdown",
   "metadata": {},
   "source": [
    "Função para avaliar a qualidade de um indivíduo, calculando o fitness. O fitness é obtido por uma soma de todas as predições corretas. Devido ao caráter desbalanceado do dataset, fez-se uso de uma constante (peso) para evitar predições tendenciosas para a classe da maioria."
   ]
  },
  {
   "cell_type": "code",
   "execution_count": 3,
   "metadata": {},
   "outputs": [],
   "source": [
    "def evaluate(individual):\n",
    "    \"\"\"Evalute the fitness of an individual\"\"\"\n",
    "    n_correct = 0\n",
    "    \n",
    "    preds = predict(individual, X_train)\n",
    "    \n",
    "    correct = y_train[np.where(preds == y_train)]\n",
    "    \n",
    "    n_correct += correct[np.where(correct == 'STABLE')].shape[0]\n",
    "    n_correct += correct[np.where(correct != 'STABLE')].shape[0] * peso\n",
    "    \n",
    "    return (n_correct / total),"
   ]
  },
  {
   "cell_type": "markdown",
   "metadata": {},
   "source": [
    "Computa todas as predições de _data_ com a função gerada pela expressão do indivíduo."
   ]
  },
  {
   "cell_type": "code",
   "execution_count": 4,
   "metadata": {},
   "outputs": [],
   "source": [
    "def predict(individual, data):\n",
    "    func = toolbox.compile(individual)  # a lambda function\n",
    "    preds = []\n",
    "    for i, (sma, wma, macd, rsi, mom) in enumerate(data):\n",
    "        if i == 0:\n",
    "            (psma, pwma, pmacd, prsi, pmom) = X_train[i]\n",
    "        else:\n",
    "            (psma, pwma, pmacd, prsi, pmom) = X_train[i-1]\n",
    "            \n",
    "        prediction = int(func(sma, wma, macd, rsi, mom, psma, pwma, pmacd, prsi, pmom))\n",
    "        \n",
    "        if prediction >= 1:\n",
    "            prediction = 'UP'\n",
    "        elif prediction <= -1:\n",
    "            prediction = 'DOWN'\n",
    "        else:\n",
    "            prediction = 'STABLE'\n",
    "            \n",
    "        preds.append(prediction)\n",
    "        \n",
    "    return preds"
   ]
  },
  {
   "cell_type": "markdown",
   "metadata": {},
   "source": [
    "Plota a matriz de confusão normalizada."
   ]
  },
  {
   "cell_type": "code",
   "execution_count": 5,
   "metadata": {},
   "outputs": [],
   "source": [
    "def plot_cm(preds, true):\n",
    "    labels=['DOWN', 'STABLE', 'UP']\n",
    "    cm = confusion_matrix(true, preds)\n",
    "    norm_cm = cm.astype('float') / cm.sum(axis=1)[:, np.newaxis]\n",
    "    sns.heatmap(pd.DataFrame(norm_cm, index=labels, columns=labels), annot=True, cmap='RdBu_r', fmt='.2f')\n",
    "    plt.ylabel('True')\n",
    "    plt.xlabel('Predicted')\n",
    "    plt.show()"
   ]
  },
  {
   "cell_type": "markdown",
   "metadata": {},
   "source": [
    "Leitura dos dados."
   ]
  },
  {
   "cell_type": "code",
   "execution_count": 6,
   "metadata": {},
   "outputs": [
    {
     "data": {
      "text/html": [
       "<div>\n",
       "<style scoped>\n",
       "    .dataframe tbody tr th:only-of-type {\n",
       "        vertical-align: middle;\n",
       "    }\n",
       "\n",
       "    .dataframe tbody tr th {\n",
       "        vertical-align: top;\n",
       "    }\n",
       "\n",
       "    .dataframe thead th {\n",
       "        text-align: right;\n",
       "    }\n",
       "</style>\n",
       "<table border=\"1\" class=\"dataframe\">\n",
       "  <thead>\n",
       "    <tr style=\"text-align: right;\">\n",
       "      <th></th>\n",
       "      <th>datetime</th>\n",
       "      <th>sma</th>\n",
       "      <th>wma</th>\n",
       "      <th>macd</th>\n",
       "      <th>rsi</th>\n",
       "      <th>mom</th>\n",
       "      <th>class</th>\n",
       "    </tr>\n",
       "  </thead>\n",
       "  <tbody>\n",
       "    <tr>\n",
       "      <th>0</th>\n",
       "      <td>2018-05-16 11:37:00</td>\n",
       "      <td>-1</td>\n",
       "      <td>-1</td>\n",
       "      <td>-1</td>\n",
       "      <td>-1</td>\n",
       "      <td>1</td>\n",
       "      <td>STABLE</td>\n",
       "    </tr>\n",
       "    <tr>\n",
       "      <th>1</th>\n",
       "      <td>2018-05-16 11:38:00</td>\n",
       "      <td>-1</td>\n",
       "      <td>-1</td>\n",
       "      <td>1</td>\n",
       "      <td>-1</td>\n",
       "      <td>1</td>\n",
       "      <td>STABLE</td>\n",
       "    </tr>\n",
       "    <tr>\n",
       "      <th>2</th>\n",
       "      <td>2018-05-16 11:39:00</td>\n",
       "      <td>-1</td>\n",
       "      <td>-1</td>\n",
       "      <td>-1</td>\n",
       "      <td>-1</td>\n",
       "      <td>1</td>\n",
       "      <td>STABLE</td>\n",
       "    </tr>\n",
       "    <tr>\n",
       "      <th>3</th>\n",
       "      <td>2018-05-16 11:40:00</td>\n",
       "      <td>1</td>\n",
       "      <td>1</td>\n",
       "      <td>-1</td>\n",
       "      <td>-1</td>\n",
       "      <td>-1</td>\n",
       "      <td>STABLE</td>\n",
       "    </tr>\n",
       "    <tr>\n",
       "      <th>4</th>\n",
       "      <td>2018-05-16 11:41:00</td>\n",
       "      <td>1</td>\n",
       "      <td>1</td>\n",
       "      <td>-1</td>\n",
       "      <td>-1</td>\n",
       "      <td>-1</td>\n",
       "      <td>STABLE</td>\n",
       "    </tr>\n",
       "  </tbody>\n",
       "</table>\n",
       "</div>"
      ],
      "text/plain": [
       "              datetime  sma  wma  macd  rsi  mom   class\n",
       "0  2018-05-16 11:37:00   -1   -1    -1   -1    1  STABLE\n",
       "1  2018-05-16 11:38:00   -1   -1     1   -1    1  STABLE\n",
       "2  2018-05-16 11:39:00   -1   -1    -1   -1    1  STABLE\n",
       "3  2018-05-16 11:40:00    1    1    -1   -1   -1  STABLE\n",
       "4  2018-05-16 11:41:00    1    1    -1   -1   -1  STABLE"
      ]
     },
     "execution_count": 6,
     "metadata": {},
     "output_type": "execute_result"
    }
   ],
   "source": [
    "train = pd.read_csv('data/treino.csv')\n",
    "test = pd.read_csv('data/teste.csv')\n",
    "train.head()"
   ]
  },
  {
   "cell_type": "code",
   "execution_count": 7,
   "metadata": {},
   "outputs": [],
   "source": [
    "X_train = train.loc[:, 'sma':'mom'].to_numpy()\n",
    "y_train = train.loc[:, 'class'].to_numpy()\n",
    "X_test = test.loc[:, 'sma':'mom'].to_numpy()\n",
    "y_test = test.loc[:, 'class'].to_numpy()"
   ]
  },
  {
   "cell_type": "markdown",
   "metadata": {},
   "source": [
    "_peso_ é a constante pela qual os acertos das classes da minoria são multiplicadas. _total_ é a quantidade de \"pontos\" necessários para acertar todas as predições."
   ]
  },
  {
   "cell_type": "code",
   "execution_count": 8,
   "metadata": {},
   "outputs": [],
   "source": [
    "peso = 4\n",
    "_, counts = np.unique(train.iloc[:, -1].to_numpy(), return_counts=True)\n",
    "total = (counts[0] + counts[2]) * peso + counts[1]"
   ]
  },
  {
   "cell_type": "markdown",
   "metadata": {},
   "source": [
    "Aqui definimos o conjunto de funções e terminais. "
   ]
  },
  {
   "cell_type": "code",
   "execution_count": 9,
   "metadata": {},
   "outputs": [],
   "source": [
    "input_names = list(train.columns.values[1:-1])\n",
    "input_names.extend(['p_' + w for w in input_names])\n",
    "\n",
    "pset = gep.PrimitiveSet('Main', input_names=input_names)\n",
    "\n",
    "pset.add_function(operator.abs, 1)\n",
    "pset.add_function(operator.neg, 1)\n",
    "pset.add_function(operator.mul, 2)\n",
    "pset.add_function(operator.add, 2)\n",
    "pset.add_function(operator.sub, 2)\n",
    "pset.add_function(protected_div, 2)"
   ]
  },
  {
   "cell_type": "code",
   "execution_count": 10,
   "metadata": {},
   "outputs": [],
   "source": [
    "creator.create(\"FitnessMax\", base.Fitness, weights=(1,))  # to maximize the objective (fitness)\n",
    "creator.create(\"Individual\", gep.Chromosome, fitness=creator.FitnessMax)"
   ]
  },
  {
   "cell_type": "code",
   "execution_count": 11,
   "metadata": {},
   "outputs": [],
   "source": [
    "h = 10   # head length\n",
    "n_genes = 1   # number of genes in a chromosome\n",
    "toolbox = gep.Toolbox()\n",
    "toolbox.register('gene_gen', gep.Gene, pset=pset, head_length=h)\n",
    "toolbox.register('individual', creator.Individual, gene_gen=toolbox.gene_gen, n_genes=n_genes)\n",
    "toolbox.register(\"population\", tools.initRepeat, list, toolbox.individual)\n",
    "\n",
    "# compile utility: which translates an individual into an executable function (Lambda)\n",
    "toolbox.register('compile', gep.compile_, pset=pset)"
   ]
  },
  {
   "cell_type": "code",
   "execution_count": 12,
   "metadata": {},
   "outputs": [],
   "source": [
    "toolbox.register('evaluate', evaluate)"
   ]
  },
  {
   "cell_type": "code",
   "execution_count": 13,
   "metadata": {},
   "outputs": [],
   "source": [
    "toolbox.register('select', tools.selRoulette)\n",
    "\n",
    "## general mutations whose aliases start with 'mut'\n",
    "# We can specify the probability for an operator with the .pbs property\n",
    "toolbox.register('mut_uniform', gep.mutate_uniform, pset=pset, ind_pb=2 / (2 * h + 1))\n",
    "toolbox.pbs['mut_uniform'] = 0.1\n",
    "# Alternatively, assign the probability along with registration using the pb keyword argument.\n",
    "toolbox.register('mut_invert', gep.invert, pb=0.1)\n",
    "toolbox.register('mut_is_ts', gep.is_transpose, pb=0.1)\n",
    "toolbox.register('mut_ris_ts', gep.ris_transpose, pb=0.1)\n",
    "toolbox.register('mut_gene_ts', gep.gene_transpose, pb=0.1)\n",
    "\n",
    "## general crossover whose aliases start with 'cx'\n",
    "toolbox.register('cx_1p', gep.crossover_one_point, pb=0.1)\n",
    "toolbox.register('cx_2p', gep.crossover_two_point, pb=0.2)\n",
    "toolbox.register('cx_gene', gep.crossover_gene, pb=0.1)\n",
    "\n",
    "pool = multiprocessing.Pool()\n",
    "toolbox.register('map', pool.map)"
   ]
  },
  {
   "cell_type": "code",
   "execution_count": 14,
   "metadata": {},
   "outputs": [],
   "source": [
    "stats = tools.Statistics(key=lambda ind: ind.fitness.values[0])\n",
    "stats.register(\"avg\", np.mean)\n",
    "stats.register(\"std\", np.std)\n",
    "stats.register(\"min\", np.min)\n",
    "stats.register(\"max\", np.max)"
   ]
  },
  {
   "cell_type": "markdown",
   "metadata": {},
   "source": [
    "Começa o processo de evolução, imprimindo algumas informações sobre o melhor indivíduo ao final:"
   ]
  },
  {
   "cell_type": "code",
   "execution_count": 15,
   "metadata": {},
   "outputs": [
    {
     "name": "stdout",
     "output_type": "stream",
     "text": [
      "best: sub(rsi, wma)\n",
      "fitness: (0.7043997246775829,)\n"
     ]
    }
   ],
   "source": [
    "# size of population and number of generations\n",
    "n_pop = 100\n",
    "n_gen = 30\n",
    "\n",
    "pop = toolbox.population(n=n_pop)\n",
    "hof = tools.HallOfFame(1)   # only record the best individual ever found in all generations\n",
    "\n",
    "# start evolution\n",
    "pop, log = gep.gep_simple(pop, toolbox,\n",
    "                          n_generations=n_gen, n_elites=1,\n",
    "                          stats=stats, hall_of_fame=hof, verbose=False)\n",
    "\n",
    "best = hof[0]\n",
    "print('best:', best)\n",
    "print('fitness:',best.fitness)"
   ]
  },
  {
   "cell_type": "markdown",
   "metadata": {},
   "source": [
    "Exporta a árvore de expressão para um arquivo .png e obtém uma expressão simplificada."
   ]
  },
  {
   "cell_type": "code",
   "execution_count": 16,
   "metadata": {},
   "outputs": [],
   "source": [
    "simplified_best = gep.simplify(best)\n",
    "gep.export_expression_tree(best, file='data/expr_tree.png')"
   ]
  },
  {
   "cell_type": "markdown",
   "metadata": {},
   "source": [
    "Mostra a imagem da árvore de expressão:"
   ]
  },
  {
   "cell_type": "code",
   "execution_count": 17,
   "metadata": {},
   "outputs": [
    {
     "data": {
      "image/png": "[encoded data removed]",
      "text/plain": [
       "<IPython.core.display.Image object>"
      ]
     },
     "execution_count": 17,
     "metadata": {},
     "output_type": "execute_result"
    }
   ],
   "source": [
    "from IPython.display import Image\n",
    "Image(filename='data/expr_tree.png')"
   ]
  },
  {
   "cell_type": "markdown",
   "metadata": {},
   "source": [
    "Imprime a expressão simplificada:"
   ]
  },
  {
   "cell_type": "code",
   "execution_count": 18,
   "metadata": {},
   "outputs": [
    {
     "name": "stdout",
     "output_type": "stream",
     "text": [
      "Expressão final simplificada: rsi - wma\n"
     ]
    }
   ],
   "source": [
    "print('Expressão final simplificada:', simplified_best)"
   ]
  },
  {
   "cell_type": "markdown",
   "metadata": {},
   "source": [
    "Matriz confusão"
   ]
  },
  {
   "cell_type": "code",
   "execution_count": 19,
   "metadata": {},
   "outputs": [
    {
     "data": {
      "image/png": "[encoded data removed]",
      "text/plain": [
       "<Figure size 432x288 with 2 Axes>"
      ]
     },
     "metadata": {},
     "output_type": "display_data"
    }
   ],
   "source": [
    "plot_cm(predict(best, X_test), y_test)"
   ]
  }
 ],
 "metadata": {
  "kernelspec": {
   "display_name": "Python [conda env:evocomp]",
   "language": "python",
   "name": "conda-env-evocomp-py"
  },
  "language_info": {
   "codemirror_mode": {
    "name": "ipython",
    "version": 3
   },
   "file_extension": ".py",
   "mimetype": "text/x-python",
   "name": "python",
   "nbconvert_exporter": "python",
   "pygments_lexer": "ipython3",
   "version": "3.8.3"
  }
 },
 "nbformat": 4,
 "nbformat_minor": 4
}
